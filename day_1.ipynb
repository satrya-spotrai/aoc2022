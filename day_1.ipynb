{
 "cells": [
  {
   "cell_type": "code",
   "execution_count": 11,
   "id": "41e3e1d4-14ce-4769-bfea-12ec2999bcf3",
   "metadata": {},
   "outputs": [],
   "source": [
    "with open('./data/day_1.txt') as handle:\n",
    "    inp = handle.read()"
   ]
  },
  {
   "cell_type": "code",
   "execution_count": 8,
   "id": "72982873-b1d9-4690-a4f4-4450c141faa8",
   "metadata": {},
   "outputs": [
    {
     "data": {
      "text/plain": [
       "'10283\\n'"
      ]
     },
     "execution_count": 8,
     "metadata": {},
     "output_type": "execute_result"
    }
   ],
   "source": [
    "inp[-1]"
   ]
  },
  {
   "cell_type": "code",
   "execution_count": 19,
   "id": "ce65e4f0-8708-497b-9020-ea76de2ee171",
   "metadata": {
    "tags": []
   },
   "outputs": [],
   "source": [
    "inpu = inp.split('\\n')"
   ]
  },
  {
   "cell_type": "code",
   "execution_count": 24,
   "id": "ab0a5008-ba68-4523-8413-5dedbb6789ca",
   "metadata": {},
   "outputs": [],
   "source": [
    "all_totals = []\n",
    "total = 0\n",
    "for line in inpu:\n",
    "    if len(line) > 0:\n",
    "        total += int(line)\n",
    "    else:\n",
    "        all_totals.append(total)\n",
    "        total = 0"
   ]
  },
  {
   "cell_type": "code",
   "execution_count": 31,
   "id": "ff4fb32b-d776-4f05-b840-d667133a1236",
   "metadata": {},
   "outputs": [
    {
     "data": {
      "text/plain": [
       "72017"
      ]
     },
     "execution_count": 31,
     "metadata": {},
     "output_type": "execute_result"
    }
   ],
   "source": [
    "max(all_totals)"
   ]
  },
  {
   "cell_type": "code",
   "execution_count": 32,
   "id": "d9968478-9d45-44c9-8792-7b2409d4576a",
   "metadata": {},
   "outputs": [
    {
     "data": {
      "text/plain": [
       "212520"
      ]
     },
     "execution_count": 32,
     "metadata": {},
     "output_type": "execute_result"
    }
   ],
   "source": [
    "sum(sorted(all_totals)[-3:])"
   ]
  },
  {
   "cell_type": "code",
   "execution_count": null,
   "id": "8328aaee-35bc-4d63-88d3-e22a202923f9",
   "metadata": {},
   "outputs": [],
   "source": []
  },
  {
   "cell_type": "code",
   "execution_count": null,
   "id": "8570c618-34ed-4b8f-ba66-3456f6765621",
   "metadata": {},
   "outputs": [],
   "source": []
  },
  {
   "cell_type": "code",
   "execution_count": null,
   "id": "ebbc886d-3992-4703-bab5-fc1deea58dfd",
   "metadata": {},
   "outputs": [],
   "source": []
  },
  {
   "cell_type": "code",
   "execution_count": null,
   "id": "4fce2143-25ca-4b12-8777-15cfe1d23c33",
   "metadata": {},
   "outputs": [],
   "source": []
  }
 ],
 "metadata": {
  "kernelspec": {
   "display_name": "Python 3 (ipykernel)",
   "language": "python",
   "name": "python3"
  },
  "language_info": {
   "codemirror_mode": {
    "name": "ipython",
    "version": 3
   },
   "file_extension": ".py",
   "mimetype": "text/x-python",
   "name": "python",
   "nbconvert_exporter": "python",
   "pygments_lexer": "ipython3",
   "version": "3.9.13"
  }
 },
 "nbformat": 4,
 "nbformat_minor": 5
}
