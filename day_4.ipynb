{
 "cells": [
  {
   "cell_type": "code",
   "execution_count": 9,
   "id": "8de00b5d-c5ed-49ba-b6f9-137010ea1f05",
   "metadata": {},
   "outputs": [],
   "source": [
    "with open('data/day_4.txt') as handle:\n",
    "    lines = handle.readlines()\n",
    "    lines = [line[:-1] for line in lines]"
   ]
  },
  {
   "cell_type": "code",
   "execution_count": 11,
   "id": "232a85b4-051e-49e9-9450-b92c9f7446e3",
   "metadata": {},
   "outputs": [
    {
     "data": {
      "text/plain": [
       "['82-82,8-83', '6-98,6-93', '56-77,55-82', '51-68,51-61', '4-90,3-67']"
      ]
     },
     "execution_count": 11,
     "metadata": {},
     "output_type": "execute_result"
    }
   ],
   "source": [
    "lines[:5]"
   ]
  },
  {
   "cell_type": "code",
   "execution_count": 71,
   "id": "06779dc5-a52e-4027-b607-7423818c3d27",
   "metadata": {},
   "outputs": [],
   "source": [
    "duplicates = []\n",
    "for line in lines:\n",
    "    p1, p2 = line.split(',')\n",
    "    p1_min, p1_max = [int(limit) for limit in p1.split('-')]\n",
    "    p2_min, p2_max = [int(limit) for limit in p2.split('-')]\n",
    "    \n",
    "    p1_range = set(range(p1_min, p1_max + 1))\n",
    "    p2_range = set(range(p2_min, p2_max + 1))\n",
    "    \n",
    "    # if len(p1_range.difference(p2_range)) == 0 or len(p2_range.difference(p1_range)) == 0:  # part 1\n",
    "    if len(p1_range.intersection(p2_range)) >= 1:  # part 2\n",
    "        duplicates.append(line)"
   ]
  },
  {
   "cell_type": "code",
   "execution_count": 72,
   "id": "205c17f2-903d-439f-81bd-cc354631ad10",
   "metadata": {},
   "outputs": [
    {
     "data": {
      "text/plain": [
       "859"
      ]
     },
     "execution_count": 72,
     "metadata": {},
     "output_type": "execute_result"
    }
   ],
   "source": [
    "len(duplicates)\n",
    "# 684 low"
   ]
  },
  {
   "cell_type": "code",
   "execution_count": 73,
   "id": "16eda966-9749-42d9-a2db-f99e8dc14066",
   "metadata": {},
   "outputs": [
    {
     "data": {
      "text/plain": [
       "['82-82,8-83', '6-98,6-93', '56-77,55-82', '51-68,51-61', '4-90,3-67']"
      ]
     },
     "execution_count": 73,
     "metadata": {},
     "output_type": "execute_result"
    }
   ],
   "source": [
    "lines[:5]"
   ]
  },
  {
   "cell_type": "code",
   "execution_count": null,
   "id": "f2f499a5-5695-4ddd-be10-944b26695b78",
   "metadata": {},
   "outputs": [],
   "source": []
  }
 ],
 "metadata": {
  "kernelspec": {
   "display_name": "Python 3 (ipykernel)",
   "language": "python",
   "name": "python3"
  },
  "language_info": {
   "codemirror_mode": {
    "name": "ipython",
    "version": 3
   },
   "file_extension": ".py",
   "mimetype": "text/x-python",
   "name": "python",
   "nbconvert_exporter": "python",
   "pygments_lexer": "ipython3",
   "version": "3.9.13"
  }
 },
 "nbformat": 4,
 "nbformat_minor": 5
}
