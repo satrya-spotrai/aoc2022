{
 "cells": [
  {
   "cell_type": "code",
   "execution_count": 180,
   "id": "0c4f19d9-c161-4769-b9d0-32df02a02ea3",
   "metadata": {},
   "outputs": [],
   "source": [
    "from math import floor"
   ]
  },
  {
   "cell_type": "code",
   "execution_count": 222,
   "id": "5367f615-01dc-4b1d-9e89-ac07ee6a2efd",
   "metadata": {},
   "outputs": [],
   "source": [
    "with open('data/day_11ex.txt') as handle:\n",
    "    lines = [line[:-1] for line in handle.readlines()]"
   ]
  },
  {
   "cell_type": "code",
   "execution_count": 210,
   "id": "c600e14a-3679-4c02-8bf1-3ee697be1e4c",
   "metadata": {},
   "outputs": [],
   "source": [
    "with open('data/day_11.txt') as handle:\n",
    "    lines = [line[:-1] for line in handle.readlines()]"
   ]
  },
  {
   "cell_type": "code",
   "execution_count": 223,
   "id": "eb12b322-3425-4625-9f81-f5d474f55ed0",
   "metadata": {},
   "outputs": [
    {
     "data": {
      "text/plain": [
       "27"
      ]
     },
     "execution_count": 223,
     "metadata": {},
     "output_type": "execute_result"
    }
   ],
   "source": [
    "len(lines)"
   ]
  },
  {
   "cell_type": "code",
   "execution_count": 134,
   "id": "910c2f8a-a91a-45c4-8a4f-f18a0795a6a4",
   "metadata": {},
   "outputs": [],
   "source": [
    "def test(moduler, val):\n",
    "    # return True on pass\n",
    "    if eval(f'{val}%{moduler}') == 0:\n",
    "        return True\n",
    "    else:\n",
    "        return False"
   ]
  },
  {
   "cell_type": "code",
   "execution_count": 40,
   "id": "21cbba56-3c6d-4501-9c89-5bc27620b01c",
   "metadata": {},
   "outputs": [],
   "source": [
    "def operator(inp, action, val):\n",
    "    return eval(f'{inp}{action}{val}')"
   ]
  },
  {
   "cell_type": "code",
   "execution_count": 238,
   "id": "50a0262a-eeac-49ca-b7e0-95d2d7f10186",
   "metadata": {},
   "outputs": [],
   "source": [
    "# parser\n",
    "monkeys = {}\n",
    "\n",
    "for ln, line in enumerate(lines):\n",
    "\n",
    "    if 'Monkey' in line:\n",
    "        monkey_id = int(line[-2])\n",
    "        monkeys[monkey_id] = {}\n",
    "        monkeys[monkey_id]['items'] = eval(lines[ln + 1].split('Starting items: ')[1])\n",
    "        monkeys[monkey_id]['items'] = [monkeys[monkey_id]['items']] if type(monkeys[monkey_id]['items']) is int else [*monkeys[monkey_id]['items']]\n",
    "        \n",
    "        monkeys[monkey_id]['operation'] = lines[ln + 2].split('=')[-1].split()\n",
    "        monkeys[monkey_id]['diviser'] = int(lines[ln + 3].split()[-1])\n",
    "        monkeys[monkey_id]['pass'] = int(lines[ln + 4].split()[-1])\n",
    "        monkeys[monkey_id]['fail'] = int(lines[ln + 5].split()[-1])\n",
    "        \n",
    "        monkeys[monkey_id]['inspections'] = 0\n",
    "    else:\n",
    "        continue"
   ]
  },
  {
   "cell_type": "code",
   "execution_count": 239,
   "id": "86048c9b-069a-41d2-a0b4-843a20444e03",
   "metadata": {},
   "outputs": [
    {
     "name": "stdout",
     "output_type": "stream",
     "text": [
      "CPU times: user 5.09 ms, sys: 929 µs, total: 6.02 ms\n",
      "Wall time: 5.31 ms\n"
     ]
    }
   ],
   "source": [
    "%%time\n",
    "\n",
    "# start game\n",
    "round_ = 0\n",
    "\n",
    "while round_ < 10:\n",
    "    for idm in list(monkeys.keys())[:]:\n",
    "        for item in monkeys[idm]['items']:\n",
    "\n",
    "            # eval item\n",
    "            operator_input = [item if x == 'old' else x for x in monkeys[idm]['operation']]\n",
    "            worry_lv = operator(*operator_input)\n",
    "            # worry_lv_post = floor(worry_lv / 3)\n",
    "            # print(worry_lv, worry_lv_post)  \n",
    "\n",
    "            # perform deviser test\n",
    "            if test(monkeys[idm]['diviser'], worry_lv):\n",
    "                monkeys[monkeys[idm]['pass']]['items'].append(worry_lv)\n",
    "            else:\n",
    "                monkeys[monkeys[idm]['fail']]['items'].append(worry_lv)\n",
    "            \n",
    "            monkeys[idm]['inspections'] += 1\n",
    "\n",
    "        # empty current monkey list\n",
    "        monkeys[idm]['items'] = []\n",
    "\n",
    "    round_ += 1"
   ]
  },
  {
   "cell_type": "code",
   "execution_count": 240,
   "id": "0d8be336-1209-4738-ac19-fdc398df5907",
   "metadata": {},
   "outputs": [
    {
     "data": {
      "text/plain": [
       "10"
      ]
     },
     "execution_count": 240,
     "metadata": {},
     "output_type": "execute_result"
    }
   ],
   "source": [
    "round_"
   ]
  },
  {
   "cell_type": "code",
   "execution_count": 241,
   "id": "0328eeb7-1f85-442c-9477-0c12b8a94460",
   "metadata": {},
   "outputs": [
    {
     "data": {
      "text/plain": [
       "{0: {'items': [10881803,\n",
       "   196849870,\n",
       "   814571410,\n",
       "   470393649,\n",
       "   1227428338,\n",
       "   164774140531273,\n",
       "   199323803,\n",
       "   149803983],\n",
       "  'operation': ['old', '*', '19'],\n",
       "  'diviser': 23,\n",
       "  'pass': 2,\n",
       "  'fail': 3,\n",
       "  'inspections': 46},\n",
       " 1: {'items': [177041072, 201802062],\n",
       "  'operation': ['old', '+', '6'],\n",
       "  'diviser': 19,\n",
       "  'pass': 2,\n",
       "  'fail': 0,\n",
       "  'inspections': 50},\n",
       " 2: {'items': [],\n",
       "  'operation': ['old', '*', 'old'],\n",
       "  'diviser': 13,\n",
       "  'pass': 1,\n",
       "  'fail': 3,\n",
       "  'inspections': 4},\n",
       " 3: {'items': [],\n",
       "  'operation': ['old', '+', '3'],\n",
       "  'diviser': 17,\n",
       "  'pass': 0,\n",
       "  'fail': 1,\n",
       "  'inspections': 50}}"
      ]
     },
     "execution_count": 241,
     "metadata": {},
     "output_type": "execute_result"
    }
   ],
   "source": [
    "monkeys"
   ]
  },
  {
   "cell_type": "code",
   "execution_count": 220,
   "id": "f9087e40-339a-44df-bf0c-f05a10c18fa4",
   "metadata": {},
   "outputs": [
    {
     "data": {
      "text/plain": [
       "[8, 16, 57, 270, 305, 315, 316, 321]"
      ]
     },
     "execution_count": 220,
     "metadata": {},
     "output_type": "execute_result"
    }
   ],
   "source": [
    "x = [monkeys[idm]['inspections'] for idm in monkeys.keys()]\n",
    "x.sort()\n",
    "x\n",
    "# for idm in monkeys.keys():\n",
    "#     print(monkeys[idm]['inspections'])"
   ]
  },
  {
   "cell_type": "code",
   "execution_count": 221,
   "id": "78e1a442-3698-444b-b15d-03a63436572f",
   "metadata": {},
   "outputs": [
    {
     "data": {
      "text/plain": [
       "101436"
      ]
     },
     "execution_count": 221,
     "metadata": {},
     "output_type": "execute_result"
    }
   ],
   "source": [
    "316 * 321"
   ]
  },
  {
   "cell_type": "code",
   "execution_count": 242,
   "id": "ceebef37-d6ca-43b0-9524-8dde1d828f2c",
   "metadata": {},
   "outputs": [
    {
     "data": {
      "text/plain": [
       "289"
      ]
     },
     "execution_count": 242,
     "metadata": {},
     "output_type": "execute_result"
    }
   ],
   "source": [
    "17*17"
   ]
  },
  {
   "cell_type": "code",
   "execution_count": 243,
   "id": "36c94908-d92a-4d51-8543-59ab7a0a682b",
   "metadata": {},
   "outputs": [
    {
     "data": {
      "text/plain": [
       "1"
      ]
     },
     "execution_count": 243,
     "metadata": {},
     "output_type": "execute_result"
    }
   ],
   "source": [
    "289 % 3"
   ]
  },
  {
   "cell_type": "code",
   "execution_count": 244,
   "id": "b83dc778-5f71-4953-ae72-92eeba8d4f47",
   "metadata": {},
   "outputs": [
    {
     "data": {
      "text/plain": [
       "1"
      ]
     },
     "execution_count": 244,
     "metadata": {},
     "output_type": "execute_result"
    }
   ],
   "source": [
    "17 % 2"
   ]
  },
  {
   "cell_type": "code",
   "execution_count": 245,
   "id": "6ddd8d47-b318-417c-8d81-ac60e4ff7925",
   "metadata": {},
   "outputs": [
    {
     "data": {
      "text/plain": [
       "1"
      ]
     },
     "execution_count": 245,
     "metadata": {},
     "output_type": "execute_result"
    }
   ],
   "source": [
    "1 % 2"
   ]
  },
  {
   "cell_type": "code",
   "execution_count": null,
   "id": "c781248c-e184-43a7-8736-855ed6662c03",
   "metadata": {},
   "outputs": [],
   "source": []
  }
 ],
 "metadata": {
  "kernelspec": {
   "display_name": "Python 3 (ipykernel)",
   "language": "python",
   "name": "python3"
  },
  "language_info": {
   "codemirror_mode": {
    "name": "ipython",
    "version": 3
   },
   "file_extension": ".py",
   "mimetype": "text/x-python",
   "name": "python",
   "nbconvert_exporter": "python",
   "pygments_lexer": "ipython3",
   "version": "3.9.13"
  }
 },
 "nbformat": 4,
 "nbformat_minor": 5
}
