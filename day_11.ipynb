{
 "cells": [
  {
   "cell_type": "code",
   "execution_count": 180,
   "id": "0c4f19d9-c161-4769-b9d0-32df02a02ea3",
   "metadata": {},
   "outputs": [],
   "source": [
    "from math import floor"
   ]
  },
  {
   "cell_type": "code",
   "execution_count": 127,
   "id": "5367f615-01dc-4b1d-9e89-ac07ee6a2efd",
   "metadata": {},
   "outputs": [],
   "source": [
    "with open('data/day_11ex.txt') as handle:\n",
    "    lines = [line[:-1] for line in handle.readlines()]"
   ]
  },
  {
   "cell_type": "code",
   "execution_count": 122,
   "id": "c600e14a-3679-4c02-8bf1-3ee697be1e4c",
   "metadata": {},
   "outputs": [],
   "source": [
    "with open('data/day_11.txt') as handle:\n",
    "    lines = [line[:-1] for line in handle.readlines()]"
   ]
  },
  {
   "cell_type": "code",
   "execution_count": 105,
   "id": "eb12b322-3425-4625-9f81-f5d474f55ed0",
   "metadata": {},
   "outputs": [
    {
     "data": {
      "text/plain": [
       "['Monkey 0:',\n",
       " '  Starting items: 79, 98',\n",
       " '  Operation: new = old * 19',\n",
       " '  Test: divisible by 23',\n",
       " '    If true: throw to monkey 2',\n",
       " '    If false: throw to monkey 3',\n",
       " '',\n",
       " 'Monkey 1:',\n",
       " '  Starting items: 54, 65, 75, 74',\n",
       " '  Operation: new = old + 6',\n",
       " '  Test: divisible by 19',\n",
       " '    If true: throw to monkey 2',\n",
       " '    If false: throw to monkey 0',\n",
       " '',\n",
       " 'Monkey 2:',\n",
       " '  Starting items: 79, 60, 97',\n",
       " '  Operation: new = old * old',\n",
       " '  Test: divisible by 13',\n",
       " '    If true: throw to monkey 1',\n",
       " '    If false: throw to monkey 3',\n",
       " '',\n",
       " 'Monkey 3:',\n",
       " '  Starting items: 74',\n",
       " '  Operation: new = old + 3',\n",
       " '  Test: divisible by 17',\n",
       " '    If true: throw to monkey 0',\n",
       " '    If false: throw to monkey 1']"
      ]
     },
     "execution_count": 105,
     "metadata": {},
     "output_type": "execute_result"
    }
   ],
   "source": [
    "lines"
   ]
  },
  {
   "cell_type": "code",
   "execution_count": 134,
   "id": "910c2f8a-a91a-45c4-8a4f-f18a0795a6a4",
   "metadata": {},
   "outputs": [],
   "source": [
    "def test(moduler, val):\n",
    "    # return True on pass\n",
    "    if eval(f'{val}%{moduler}') == 0:\n",
    "        return True\n",
    "    else:\n",
    "        return False"
   ]
  },
  {
   "cell_type": "code",
   "execution_count": 40,
   "id": "21cbba56-3c6d-4501-9c89-5bc27620b01c",
   "metadata": {},
   "outputs": [],
   "source": [
    "def operator(inp, action, val):\n",
    "    return eval(f'{inp}{action}{val}')"
   ]
  },
  {
   "cell_type": "code",
   "execution_count": 192,
   "id": "50a0262a-eeac-49ca-b7e0-95d2d7f10186",
   "metadata": {},
   "outputs": [],
   "source": [
    "# parser\n",
    "monkeys = {}\n",
    "\n",
    "for ln, line in enumerate(lines):\n",
    "\n",
    "    if 'Monkey' in line:\n",
    "        monkey_id = int(line[-2])\n",
    "        monkeys[monkey_id] = {}\n",
    "        monkeys[monkey_id]['items'] = eval(lines[ln + 1].split('Starting items: ')[1])\n",
    "        monkeys[monkey_id]['items'] = [monkeys[monkey_id]['items']] if type(monkeys[monkey_id]['items']) is int else [*monkeys[monkey_id]['items']]\n",
    "        \n",
    "        monkeys[monkey_id]['operation'] = lines[ln + 2].split('=')[-1].split()\n",
    "        monkeys[monkey_id]['diviser'] = int(lines[ln + 3].split()[-1])\n",
    "        monkeys[monkey_id]['pass'] = int(lines[ln + 4].split()[-1])\n",
    "        monkeys[monkey_id]['fail'] = int(lines[ln + 5].split()[-1])\n",
    "    else:\n",
    "        continue"
   ]
  },
  {
   "cell_type": "code",
   "execution_count": 193,
   "id": "86048c9b-069a-41d2-a0b4-843a20444e03",
   "metadata": {},
   "outputs": [
    {
     "name": "stdout",
     "output_type": "stream",
     "text": [
      "1501 500\n",
      "1862 620\n",
      "next monk\n",
      "60 20\n",
      "71 23\n",
      "81 27\n",
      "80 26\n",
      "next monk\n",
      "6241 2080\n",
      "3600 1200\n",
      "9409 3136\n",
      "next monk\n",
      "77 25\n",
      "503 167\n",
      "623 207\n",
      "1203 401\n",
      "3139 1046\n",
      "next monk\n",
      "380 126\n",
      "437 145\n",
      "513 171\n",
      "494 164\n",
      "next monk\n",
      "2086 695\n",
      "31 10\n",
      "173 57\n",
      "213 71\n",
      "407 135\n",
      "1052 350\n",
      "next monk\n",
      "3249 1083\n",
      "next monk\n",
      "129 43\n",
      "148 49\n",
      "174 58\n",
      "167 55\n",
      "1086 362\n",
      "next monk\n",
      "13205 4401\n",
      "190 63\n",
      "1349 449\n",
      "2565 855\n",
      "6650 2216\n",
      "next monk\n",
      "49 16\n",
      "55 18\n",
      "64 21\n",
      "61 20\n",
      "368 122\n",
      "next monk\n",
      "next monk\n",
      "4404 1468\n",
      "66 22\n",
      "452 150\n",
      "858 286\n",
      "2219 739\n",
      "next monk\n",
      "304 101\n",
      "342 114\n",
      "399 133\n",
      "380 126\n",
      "2318 772\n",
      "next monk\n",
      "1474 491\n",
      "28 9\n",
      "156 52\n",
      "292 97\n",
      "745 248\n",
      "next monk\n",
      "next monk\n",
      "104 34\n",
      "117 39\n",
      "136 45\n",
      "129 43\n",
      "775 258\n",
      "next monk\n",
      "9329 3109\n",
      "171 57\n",
      "988 329\n",
      "1843 614\n",
      "4712 1570\n",
      "646 215\n",
      "next monk\n",
      "45 15\n",
      "51 17\n",
      "49 16\n",
      "264 88\n",
      "next monk\n",
      "next monk\n",
      "3112 1037\n",
      "60 20\n",
      "332 110\n",
      "617 205\n",
      "1573 524\n",
      "218 72\n",
      "next monk\n",
      "285 95\n",
      "323 107\n",
      "304 101\n",
      "1672 557\n",
      "19703 6567\n",
      "next monk\n",
      "26 8\n",
      "116 38\n",
      "211 70\n",
      "530 176\n",
      "78 26\n",
      "next monk\n",
      "1444 481\n",
      "next monk\n",
      "98 32\n",
      "110 36\n",
      "104 34\n",
      "560 186\n",
      "6570 2190\n",
      "next monk\n",
      "152 50\n",
      "1330 443\n",
      "3344 1114\n",
      "494 164\n",
      "646 215\n",
      "next monk\n",
      "487 162\n",
      "38 12\n",
      "42 14\n",
      "192 64\n",
      "2196 732\n",
      "next monk\n",
      "next monk\n",
      "53 17\n",
      "446 148\n",
      "1117 372\n",
      "167 55\n",
      "218 72\n",
      "next monk\n",
      "3078 1026\n",
      "228 76\n",
      "266 88\n",
      "1216 405\n",
      "13908 4636\n",
      "323 107\n",
      "next monk\n",
      "154 51\n",
      "378 126\n",
      "61 20\n",
      "78 26\n",
      "next monk\n",
      "next monk\n",
      "1029 343\n",
      "79 26\n",
      "91 30\n",
      "408 136\n",
      "4639 1546\n",
      "110 36\n",
      "next monk\n",
      "969 323\n",
      "2394 798\n",
      "380 126\n",
      "494 164\n",
      "2584 861\n",
      "next monk\n",
      "349 116\n",
      "32 10\n",
      "36 12\n",
      "1552 517\n",
      "42 14\n",
      "next monk\n",
      "next monk\n",
      "326 108\n",
      "801 267\n",
      "129 43\n",
      "167 55\n",
      "864 288\n",
      "next monk\n",
      "2204 734\n",
      "190 63\n",
      "228 76\n",
      "9823 3274\n",
      "266 88\n",
      "next monk\n",
      "114 38\n",
      "273 91\n",
      "49 16\n",
      "61 20\n",
      "294 98\n",
      "next monk\n",
      "1444 481\n",
      "next monk\n",
      "737 245\n",
      "66 22\n",
      "79 26\n",
      "3277 1092\n",
      "91 30\n",
      "next monk\n"
     ]
    }
   ],
   "source": [
    "# start game\n",
    "round_ = 0\n",
    "\n",
    "while round_ < 10:\n",
    "    for idm in list(monkeys.keys())[:]:\n",
    "        for item in monkeys[idm]['items']:\n",
    "\n",
    "            # eval item\n",
    "            operator_input = [item if x == 'old' else x for x in monkeys[idm]['operation']]\n",
    "            worry_lv = operator(*operator_input)\n",
    "            worry_lv_post = floor(worry_lv / 3)\n",
    "            print(worry_lv, worry_lv_post)\n",
    "\n",
    "            # perform deviser test\n",
    "            if test(monkeys[idm]['diviser'], worry_lv_post):\n",
    "                monkeys[monkeys[idm]['pass']]['items'].append(worry_lv_post)\n",
    "            else:\n",
    "                monkeys[monkeys[idm]['fail']]['items'].append(worry_lv_post)\n",
    "\n",
    "        # empty current monkey list\n",
    "        monkeys[idm]['items'] = []\n",
    "\n",
    "        print('next monk')\n",
    "\n",
    "    round_ += 1"
   ]
  },
  {
   "cell_type": "code",
   "execution_count": 194,
   "id": "0d8be336-1209-4738-ac19-fdc398df5907",
   "metadata": {},
   "outputs": [
    {
     "data": {
      "text/plain": [
       "10"
      ]
     },
     "execution_count": 194,
     "metadata": {},
     "output_type": "execute_result"
    }
   ],
   "source": [
    "round_"
   ]
  },
  {
   "cell_type": "code",
   "execution_count": 195,
   "id": "0328eeb7-1f85-442c-9477-0c12b8a94460",
   "metadata": {},
   "outputs": [
    {
     "data": {
      "text/plain": [
       "{0: {'items': [91, 16, 20, 98],\n",
       "  'operation': ['old', '*', '19'],\n",
       "  'diviser': 23,\n",
       "  'pass': 2,\n",
       "  'fail': 3},\n",
       " 1: {'items': [481, 245, 22, 26, 1092, 30],\n",
       "  'operation': ['old', '+', '6'],\n",
       "  'diviser': 19,\n",
       "  'pass': 2,\n",
       "  'fail': 0},\n",
       " 2: {'items': [],\n",
       "  'operation': ['old', '*', 'old'],\n",
       "  'diviser': 13,\n",
       "  'pass': 1,\n",
       "  'fail': 3},\n",
       " 3: {'items': [],\n",
       "  'operation': ['old', '+', '3'],\n",
       "  'diviser': 17,\n",
       "  'pass': 0,\n",
       "  'fail': 1}}"
      ]
     },
     "execution_count": 195,
     "metadata": {},
     "output_type": "execute_result"
    }
   ],
   "source": [
    "monkeys"
   ]
  },
  {
   "cell_type": "code",
   "execution_count": 168,
   "id": "f9087e40-339a-44df-bf0c-f05a10c18fa4",
   "metadata": {},
   "outputs": [
    {
     "data": {
      "text/plain": [
       "[79, 60, 97]"
      ]
     },
     "execution_count": 168,
     "metadata": {},
     "output_type": "execute_result"
    }
   ],
   "source": [
    "monkeys[monkeys[idm]['pass']]['items']"
   ]
  },
  {
   "cell_type": "code",
   "execution_count": null,
   "id": "78e1a442-3698-444b-b15d-03a63436572f",
   "metadata": {},
   "outputs": [],
   "source": []
  },
  {
   "cell_type": "code",
   "execution_count": null,
   "id": "ceebef37-d6ca-43b0-9524-8dde1d828f2c",
   "metadata": {},
   "outputs": [],
   "source": []
  }
 ],
 "metadata": {
  "kernelspec": {
   "display_name": "Python 3 (ipykernel)",
   "language": "python",
   "name": "python3"
  },
  "language_info": {
   "codemirror_mode": {
    "name": "ipython",
    "version": 3
   },
   "file_extension": ".py",
   "mimetype": "text/x-python",
   "name": "python",
   "nbconvert_exporter": "python",
   "pygments_lexer": "ipython3",
   "version": "3.9.13"
  }
 },
 "nbformat": 4,
 "nbformat_minor": 5
}
