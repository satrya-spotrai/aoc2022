{
 "cells": [
  {
   "cell_type": "code",
   "execution_count": 180,
   "id": "0c4f19d9-c161-4769-b9d0-32df02a02ea3",
   "metadata": {},
   "outputs": [],
   "source": [
    "from math import floor"
   ]
  },
  {
   "cell_type": "code",
   "execution_count": 127,
   "id": "5367f615-01dc-4b1d-9e89-ac07ee6a2efd",
   "metadata": {},
   "outputs": [],
   "source": [
    "with open('data/day_11ex.txt') as handle:\n",
    "    lines = [line[:-1] for line in handle.readlines()]"
   ]
  },
  {
   "cell_type": "code",
   "execution_count": 210,
   "id": "c600e14a-3679-4c02-8bf1-3ee697be1e4c",
   "metadata": {},
   "outputs": [],
   "source": [
    "with open('data/day_11.txt') as handle:\n",
    "    lines = [line[:-1] for line in handle.readlines()]"
   ]
  },
  {
   "cell_type": "code",
   "execution_count": 212,
   "id": "eb12b322-3425-4625-9f81-f5d474f55ed0",
   "metadata": {},
   "outputs": [
    {
     "data": {
      "text/plain": [
       "55"
      ]
     },
     "execution_count": 212,
     "metadata": {},
     "output_type": "execute_result"
    }
   ],
   "source": [
    "len(lines)"
   ]
  },
  {
   "cell_type": "code",
   "execution_count": 134,
   "id": "910c2f8a-a91a-45c4-8a4f-f18a0795a6a4",
   "metadata": {},
   "outputs": [],
   "source": [
    "def test(moduler, val):\n",
    "    # return True on pass\n",
    "    if eval(f'{val}%{moduler}') == 0:\n",
    "        return True\n",
    "    else:\n",
    "        return False"
   ]
  },
  {
   "cell_type": "code",
   "execution_count": 40,
   "id": "21cbba56-3c6d-4501-9c89-5bc27620b01c",
   "metadata": {},
   "outputs": [],
   "source": [
    "def operator(inp, action, val):\n",
    "    return eval(f'{inp}{action}{val}')"
   ]
  },
  {
   "cell_type": "code",
   "execution_count": 213,
   "id": "50a0262a-eeac-49ca-b7e0-95d2d7f10186",
   "metadata": {},
   "outputs": [],
   "source": [
    "# parser\n",
    "monkeys = {}\n",
    "\n",
    "for ln, line in enumerate(lines):\n",
    "\n",
    "    if 'Monkey' in line:\n",
    "        monkey_id = int(line[-2])\n",
    "        monkeys[monkey_id] = {}\n",
    "        monkeys[monkey_id]['items'] = eval(lines[ln + 1].split('Starting items: ')[1])\n",
    "        monkeys[monkey_id]['items'] = [monkeys[monkey_id]['items']] if type(monkeys[monkey_id]['items']) is int else [*monkeys[monkey_id]['items']]\n",
    "        \n",
    "        monkeys[monkey_id]['operation'] = lines[ln + 2].split('=')[-1].split()\n",
    "        monkeys[monkey_id]['diviser'] = int(lines[ln + 3].split()[-1])\n",
    "        monkeys[monkey_id]['pass'] = int(lines[ln + 4].split()[-1])\n",
    "        monkeys[monkey_id]['fail'] = int(lines[ln + 5].split()[-1])\n",
    "        \n",
    "        monkeys[monkey_id]['inspections'] = 0\n",
    "    else:\n",
    "        continue"
   ]
  },
  {
   "cell_type": "code",
   "execution_count": 214,
   "id": "86048c9b-069a-41d2-a0b4-843a20444e03",
   "metadata": {},
   "outputs": [],
   "source": [
    "# start game\n",
    "round_ = 0\n",
    "\n",
    "while round_ < 20:\n",
    "    for idm in list(monkeys.keys())[:]:\n",
    "        for item in monkeys[idm]['items']:\n",
    "\n",
    "            # eval item\n",
    "            operator_input = [item if x == 'old' else x for x in monkeys[idm]['operation']]\n",
    "            worry_lv = operator(*operator_input)\n",
    "            worry_lv_post = floor(worry_lv / 3)\n",
    "            # print(worry_lv, worry_lv_post)  \n",
    "\n",
    "            # perform deviser test\n",
    "            if test(monkeys[idm]['diviser'], worry_lv_post):\n",
    "                monkeys[monkeys[idm]['pass']]['items'].append(worry_lv_post)\n",
    "            else:\n",
    "                monkeys[monkeys[idm]['fail']]['items'].append(worry_lv_post)\n",
    "            \n",
    "            monkeys[idm]['inspections'] += 1\n",
    "\n",
    "        # empty current monkey list\n",
    "        monkeys[idm]['items'] = []\n",
    "\n",
    "    round_ += 1"
   ]
  },
  {
   "cell_type": "code",
   "execution_count": 215,
   "id": "0d8be336-1209-4738-ac19-fdc398df5907",
   "metadata": {},
   "outputs": [
    {
     "data": {
      "text/plain": [
       "20"
      ]
     },
     "execution_count": 215,
     "metadata": {},
     "output_type": "execute_result"
    }
   ],
   "source": [
    "round_"
   ]
  },
  {
   "cell_type": "code",
   "execution_count": 216,
   "id": "0328eeb7-1f85-442c-9477-0c12b8a94460",
   "metadata": {},
   "outputs": [
    {
     "data": {
      "text/plain": [
       "{0: {'items': [2, 2, 2, 2, 2, 2, 2, 2, 2, 2, 2, 2, 2, 2, 2, 2, 2, 2, 2, 2],\n",
       "  'operation': ['old', '*', '13'],\n",
       "  'diviser': 19,\n",
       "  'pass': 6,\n",
       "  'fail': 2,\n",
       "  'inspections': 305},\n",
       " 1: {'items': [2, 2, 2, 2, 2, 2, 2, 2, 2, 2, 2, 2, 2, 2, 2, 2],\n",
       "  'operation': ['old', '+', '7'],\n",
       "  'diviser': 5,\n",
       "  'pass': 0,\n",
       "  'fail': 3,\n",
       "  'inspections': 270},\n",
       " 2: {'items': [],\n",
       "  'operation': ['old', '+', '6'],\n",
       "  'diviser': 11,\n",
       "  'pass': 5,\n",
       "  'fail': 7,\n",
       "  'inspections': 315},\n",
       " 3: {'items': [],\n",
       "  'operation': ['old', '+', '5'],\n",
       "  'diviser': 17,\n",
       "  'pass': 6,\n",
       "  'fail': 0,\n",
       "  'inspections': 321},\n",
       " 4: {'items': [],\n",
       "  'operation': ['old', '+', '8'],\n",
       "  'diviser': 7,\n",
       "  'pass': 1,\n",
       "  'fail': 3,\n",
       "  'inspections': 57},\n",
       " 5: {'items': [],\n",
       "  'operation': ['old', '*', '5'],\n",
       "  'diviser': 13,\n",
       "  'pass': 7,\n",
       "  'fail': 4,\n",
       "  'inspections': 16},\n",
       " 6: {'items': [],\n",
       "  'operation': ['old', '*', 'old'],\n",
       "  'diviser': 3,\n",
       "  'pass': 5,\n",
       "  'fail': 2,\n",
       "  'inspections': 8},\n",
       " 7: {'items': [],\n",
       "  'operation': ['old', '+', '2'],\n",
       "  'diviser': 2,\n",
       "  'pass': 1,\n",
       "  'fail': 4,\n",
       "  'inspections': 316}}"
      ]
     },
     "execution_count": 216,
     "metadata": {},
     "output_type": "execute_result"
    }
   ],
   "source": [
    "monkeys"
   ]
  },
  {
   "cell_type": "code",
   "execution_count": 220,
   "id": "f9087e40-339a-44df-bf0c-f05a10c18fa4",
   "metadata": {},
   "outputs": [
    {
     "data": {
      "text/plain": [
       "[8, 16, 57, 270, 305, 315, 316, 321]"
      ]
     },
     "execution_count": 220,
     "metadata": {},
     "output_type": "execute_result"
    }
   ],
   "source": [
    "x = [monkeys[idm]['inspections'] for idm in monkeys.keys()]\n",
    "x.sort()\n",
    "x\n",
    "# for idm in monkeys.keys():\n",
    "#     print(monkeys[idm]['inspections'])"
   ]
  },
  {
   "cell_type": "code",
   "execution_count": 221,
   "id": "78e1a442-3698-444b-b15d-03a63436572f",
   "metadata": {},
   "outputs": [
    {
     "data": {
      "text/plain": [
       "101436"
      ]
     },
     "execution_count": 221,
     "metadata": {},
     "output_type": "execute_result"
    }
   ],
   "source": [
    "316 * 321"
   ]
  },
  {
   "cell_type": "code",
   "execution_count": null,
   "id": "ceebef37-d6ca-43b0-9524-8dde1d828f2c",
   "metadata": {},
   "outputs": [],
   "source": []
  }
 ],
 "metadata": {
  "kernelspec": {
   "display_name": "Python 3 (ipykernel)",
   "language": "python",
   "name": "python3"
  },
  "language_info": {
   "codemirror_mode": {
    "name": "ipython",
    "version": 3
   },
   "file_extension": ".py",
   "mimetype": "text/x-python",
   "name": "python",
   "nbconvert_exporter": "python",
   "pygments_lexer": "ipython3",
   "version": "3.9.13"
  }
 },
 "nbformat": 4,
 "nbformat_minor": 5
}
