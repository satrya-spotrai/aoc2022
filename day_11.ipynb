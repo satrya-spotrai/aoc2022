{
 "cells": [
  {
   "cell_type": "code",
   "execution_count": 559,
   "id": "0c4f19d9-c161-4769-b9d0-32df02a02ea3",
   "metadata": {},
   "outputs": [],
   "source": [
    "import math"
   ]
  },
  {
   "cell_type": "code",
   "execution_count": 222,
   "id": "5367f615-01dc-4b1d-9e89-ac07ee6a2efd",
   "metadata": {},
   "outputs": [],
   "source": [
    "with open('data/day_11ex.txt') as handle:\n",
    "    lines = [line[:-1] for line in handle.readlines()]"
   ]
  },
  {
   "cell_type": "code",
   "execution_count": 726,
   "id": "c600e14a-3679-4c02-8bf1-3ee697be1e4c",
   "metadata": {},
   "outputs": [],
   "source": [
    "with open('data/day_11.txt') as handle:\n",
    "    lines = [line[:-1] for line in handle.readlines()]"
   ]
  },
  {
   "cell_type": "code",
   "execution_count": 727,
   "id": "eb12b322-3425-4625-9f81-f5d474f55ed0",
   "metadata": {},
   "outputs": [
    {
     "data": {
      "text/plain": [
       "55"
      ]
     },
     "execution_count": 727,
     "metadata": {},
     "output_type": "execute_result"
    }
   ],
   "source": [
    "len(lines)"
   ]
  },
  {
   "cell_type": "code",
   "execution_count": 707,
   "id": "910c2f8a-a91a-45c4-8a4f-f18a0795a6a4",
   "metadata": {},
   "outputs": [],
   "source": [
    "def test(diviser_index, diviser_stat):\n",
    "    # return True on pass\n",
    "    if diviser_stat[diviser_index] == 0:\n",
    "        return True\n",
    "    else:\n",
    "        return False"
   ]
  },
  {
   "cell_type": "code",
   "execution_count": 706,
   "id": "866f9334-d1d2-4900-b127-7f99c98807ab",
   "metadata": {},
   "outputs": [
    {
     "data": {
      "text/plain": [
       "True"
      ]
     },
     "execution_count": 706,
     "metadata": {},
     "output_type": "execute_result"
    }
   ],
   "source": [
    "test(3, [1,2,3,0])"
   ]
  },
  {
   "cell_type": "code",
   "execution_count": 700,
   "id": "21cbba56-3c6d-4501-9c89-5bc27620b01c",
   "metadata": {},
   "outputs": [],
   "source": [
    "def operator(inp, action, val):\n",
    "    # print(inp, action, val)\n",
    "    \n",
    "    if action == '+':\n",
    "        val = int(val)\n",
    "        diviser_stats = [(num+val) % div for num, div in zip(inp, divisers)]\n",
    "        \n",
    "    elif (action == '*') and (type(val) is not list):\n",
    "        val = int(val)\n",
    "        diviser_stats = [((num+div) * val) % div for num, div in zip(inp, divisers)]\n",
    "\n",
    "    else:  # power\n",
    "        diviser_stats = [(num**2) % div for num, div in zip(inp, divisers)]\n",
    "\n",
    "    return diviser_stats"
   ]
  },
  {
   "cell_type": "code",
   "execution_count": 660,
   "id": "d5ea3907-ff0f-4bb3-af5d-aadae8c0da09",
   "metadata": {},
   "outputs": [],
   "source": [
    "def get_diviser_stat(value):\n",
    "    diviser_stat = []\n",
    "\n",
    "    for div in divisers:\n",
    "        diviser_stat.append(value % div)\n",
    "\n",
    "    return diviser_stat"
   ]
  },
  {
   "cell_type": "code",
   "execution_count": 661,
   "id": "19c1b6cf-242b-4382-9095-c389a2fe81b5",
   "metadata": {},
   "outputs": [
    {
     "data": {
      "text/plain": [
       "[17, 17, 4, 0]"
      ]
     },
     "execution_count": 661,
     "metadata": {},
     "output_type": "execute_result"
    }
   ],
   "source": [
    "get_diviser_stat(17)"
   ]
  },
  {
   "cell_type": "code",
   "execution_count": 728,
   "id": "50a0262a-eeac-49ca-b7e0-95d2d7f10186",
   "metadata": {},
   "outputs": [
    {
     "name": "stdout",
     "output_type": "stream",
     "text": [
      "divisers: [19, 5, 11, 17, 7, 13, 3, 2]\n"
     ]
    }
   ],
   "source": [
    "# parser\n",
    "monkeys = {}\n",
    "divisers = []\n",
    "diviser_stat = []\n",
    "\n",
    "for ln, line in enumerate(lines):\n",
    "\n",
    "    if 'Monkey' in line:\n",
    "        monkey_id = int(line[-2])\n",
    "        monkeys[monkey_id] = {}\n",
    "        monkeys[monkey_id]['items'] = eval(lines[ln + 1].split('Starting items: ')[1])\n",
    "        monkeys[monkey_id]['items'] = [monkeys[monkey_id]['items']] if type(monkeys[monkey_id]['items']) is int else [*monkeys[monkey_id]['items']]\n",
    "        \n",
    "        monkeys[monkey_id]['operation'] = lines[ln + 2].split('=')[-1].split()\n",
    "        monkeys[monkey_id]['diviser'] = int(lines[ln + 3].split()[-1])\n",
    "        divisers.append(monkeys[monkey_id]['diviser'])\n",
    "    \n",
    "        monkeys[monkey_id]['pass'] = int(lines[ln + 4].split()[-1])\n",
    "        monkeys[monkey_id]['fail'] = int(lines[ln + 5].split()[-1])\n",
    "        \n",
    "        monkeys[monkey_id]['inspections'] = 0\n",
    "    else:\n",
    "        continue\n",
    "\n",
    "print('divisers:', divisers)\n",
    "\n",
    "# convert all number to diviser_stats\n",
    "for mid in monkeys.keys():\n",
    "    for k, item in enumerate(monkeys[mid]['items']):\n",
    "        monkeys[mid]['items'][k] = get_diviser_stat(monkeys[mid]['items'][k])"
   ]
  },
  {
   "cell_type": "code",
   "execution_count": 729,
   "id": "86048c9b-069a-41d2-a0b4-843a20444e03",
   "metadata": {},
   "outputs": [
    {
     "name": "stdout",
     "output_type": "stream",
     "text": [
      "CPU times: user 1.41 s, sys: 2.08 ms, total: 1.42 s\n",
      "Wall time: 1.42 s\n"
     ]
    }
   ],
   "source": [
    "%%time\n",
    "\n",
    "# start game\n",
    "round_ = 0\n",
    "\n",
    "while round_ < 10000:\n",
    "    for idm in list(monkeys.keys())[:]:\n",
    "        for item in monkeys[idm]['items']:\n",
    "\n",
    "            # eval item\n",
    "            operator_input = [item if x == 'old' else x for x in monkeys[idm]['operation']]  # replace old with its own val\n",
    "            worry_lv = operator(*operator_input)  # returns operator_stat\n",
    "\n",
    "            # perform deviser test\n",
    "            diviser_index = divisers.index(monkeys[idm]['diviser'])\n",
    "            pass_test = test(diviser_index, worry_lv)\n",
    "            \n",
    "            if pass_test:\n",
    "                monkeys[monkeys[idm]['pass']]['items'].append(worry_lv)\n",
    "            else:\n",
    "                monkeys[monkeys[idm]['fail']]['items'].append(worry_lv)\n",
    "            \n",
    "            monkeys[idm]['inspections'] += 1\n",
    "\n",
    "        # empty current monkey list\n",
    "        monkeys[idm]['items'] = []\n",
    "\n",
    "    round_ += 1"
   ]
  },
  {
   "cell_type": "code",
   "execution_count": 730,
   "id": "64f085e0-07c1-4cee-965f-80d2c0731c26",
   "metadata": {},
   "outputs": [
    {
     "data": {
      "text/plain": [
       "{0: {'items': [[16, 0, 2, 3, 0, 2, 1, 1],\n",
       "   [16, 0, 2, 3, 0, 2, 1, 1],\n",
       "   [12, 0, 10, 0, 1, 2, 0, 1],\n",
       "   [11, 0, 10, 2, 0, 2, 1, 1],\n",
       "   [6, 3, 2, 4, 1, 4, 0, 1],\n",
       "   [2, 1, 2, 12, 4, 8, 1, 0],\n",
       "   [18, 1, 2, 13, 1, 8, 1, 0],\n",
       "   [18, 1, 9, 3, 1, 4, 0, 0],\n",
       "   [8, 3, 2, 6, 2, 7, 0, 0],\n",
       "   [12, 3, 1, 2, 6, 7, 2, 0],\n",
       "   [18, 1, 2, 7, 3, 7, 1, 0],\n",
       "   [11, 3, 2, 13, 5, 7, 0, 0]],\n",
       "  'operation': ['old', '*', '13'],\n",
       "  'diviser': 19,\n",
       "  'pass': 6,\n",
       "  'fail': 2,\n",
       "  'inspections': 140049},\n",
       " 1: {'items': [[5, 3, 3, 10, 1, 8, 2, 0],\n",
       "   [16, 3, 3, 0, 1, 8, 2, 0],\n",
       "   [4, 3, 3, 12, 0, 8, 0, 0],\n",
       "   [4, 3, 3, 12, 0, 8, 0, 0],\n",
       "   [4, 3, 3, 12, 0, 8, 0, 0],\n",
       "   [3, 3, 0, 5, 6, 8, 0, 0],\n",
       "   [4, 2, 1, 6, 3, 8, 2, 0],\n",
       "   [7, 0, 1, 11, 0, 8, 1, 0],\n",
       "   [7, 0, 1, 11, 0, 8, 1, 0],\n",
       "   [18, 2, 1, 0, 3, 8, 2, 0],\n",
       "   [18, 0, 1, 11, 0, 8, 1, 0]],\n",
       "  'operation': ['old', '+', '7'],\n",
       "  'diviser': 5,\n",
       "  'pass': 0,\n",
       "  'fail': 3,\n",
       "  'inspections': 81926},\n",
       " 2: {'items': [[0, 1, 5, 15, 1, 0, 1, 0]],\n",
       "  'operation': ['old', '+', '6'],\n",
       "  'diviser': 11,\n",
       "  'pass': 5,\n",
       "  'fail': 7,\n",
       "  'inspections': 141054},\n",
       " 3: {'items': [[1, 3, 8, 16, 3, 12, 1, 0],\n",
       "   [6, 3, 8, 13, 1, 12, 1, 0],\n",
       "   [5, 0, 9, 3, 2, 3, 1, 1],\n",
       "   [7, 0, 9, 12, 3, 3, 1, 1]],\n",
       "  'operation': ['old', '+', '5'],\n",
       "  'diviser': 17,\n",
       "  'pass': 6,\n",
       "  'fail': 0,\n",
       "  'inspections': 119168},\n",
       " 4: {'items': [[11, 0, 0, 3, 1, 4, 2, 0],\n",
       "   [11, 0, 0, 3, 1, 4, 2, 0],\n",
       "   [11, 0, 0, 3, 1, 4, 2, 0],\n",
       "   [11, 0, 0, 3, 1, 4, 2, 0],\n",
       "   [2, 0, 0, 1, 0, 4, 0, 0],\n",
       "   [2, 0, 0, 1, 0, 4, 0, 0],\n",
       "   [12, 0, 0, 8, 2, 4, 2, 0],\n",
       "   [7, 3, 1, 13, 1, 8, 0, 1]],\n",
       "  'operation': ['old', '+', '8'],\n",
       "  'diviser': 7,\n",
       "  'pass': 1,\n",
       "  'fail': 3,\n",
       "  'inspections': 67010},\n",
       " 5: {'items': [],\n",
       "  'operation': ['old', '*', '5'],\n",
       "  'diviser': 13,\n",
       "  'pass': 7,\n",
       "  'fail': 4,\n",
       "  'inspections': 20908},\n",
       " 6: {'items': [],\n",
       "  'operation': ['old', '*', 'old'],\n",
       "  'diviser': 3,\n",
       "  'pass': 5,\n",
       "  'fail': 2,\n",
       "  'inspections': 10223},\n",
       " 7: {'items': [],\n",
       "  'operation': ['old', '+', '2'],\n",
       "  'diviser': 2,\n",
       "  'pass': 1,\n",
       "  'fail': 4,\n",
       "  'inspections': 122454}}"
      ]
     },
     "execution_count": 730,
     "metadata": {},
     "output_type": "execute_result"
    }
   ],
   "source": [
    "monkeys"
   ]
  },
  {
   "cell_type": "code",
   "execution_count": 731,
   "id": "0d8be336-1209-4738-ac19-fdc398df5907",
   "metadata": {},
   "outputs": [
    {
     "data": {
      "text/plain": [
       "10000"
      ]
     },
     "execution_count": 731,
     "metadata": {},
     "output_type": "execute_result"
    }
   ],
   "source": [
    "round_"
   ]
  },
  {
   "cell_type": "code",
   "execution_count": 734,
   "id": "a152dc18-8c58-4ba1-9c02-7c9ada8ec426",
   "metadata": {},
   "outputs": [],
   "source": [
    "inspections = [monkeys[idx]['inspections'] for idx in monkeys.keys()]"
   ]
  },
  {
   "cell_type": "code",
   "execution_count": 736,
   "id": "49f91444-49eb-4fd1-bac2-28409b099b4d",
   "metadata": {},
   "outputs": [
    {
     "data": {
      "text/plain": [
       "[10223, 20908, 67010, 81926, 119168, 122454, 140049, 141054]"
      ]
     },
     "execution_count": 736,
     "metadata": {},
     "output_type": "execute_result"
    }
   ],
   "source": [
    "sorted(inspections)"
   ]
  },
  {
   "cell_type": "code",
   "execution_count": null,
   "id": "728521c1-5178-499d-9e0d-507812c62f06",
   "metadata": {},
   "outputs": [],
   "source": []
  },
  {
   "cell_type": "code",
   "execution_count": null,
   "id": "8fef04b8-c860-4735-83bc-c0847ee0aa14",
   "metadata": {},
   "outputs": [],
   "source": []
  },
  {
   "cell_type": "code",
   "execution_count": null,
   "id": "02550aa6-b7a3-4b1e-975e-b0f473c4b745",
   "metadata": {},
   "outputs": [],
   "source": [
    "## test"
   ]
  },
  {
   "cell_type": "code",
   "execution_count": 636,
   "id": "acc8c3f8-1aa2-4209-8344-6e19b889ac12",
   "metadata": {},
   "outputs": [
    {
     "name": "stdout",
     "output_type": "stream",
     "text": [
      "17\n",
      "17\n",
      "4\n",
      "0\n"
     ]
    }
   ],
   "source": [
    "for div in divisers:\n",
    "    print(17 % div)"
   ]
  },
  {
   "cell_type": "code",
   "execution_count": 682,
   "id": "af462f8e-7a86-46c8-852f-4bd27f70d2ed",
   "metadata": {},
   "outputs": [
    {
     "name": "stdout",
     "output_type": "stream",
     "text": [
      "1\n",
      "5\n",
      "11\n",
      "7\n"
     ]
    }
   ],
   "source": [
    "for div in divisers:  # plus\n",
    "    print((17+7) % div)"
   ]
  },
  {
   "cell_type": "code",
   "execution_count": 696,
   "id": "7d034d61-1489-4743-8178-6d43d57fae7e",
   "metadata": {},
   "outputs": [
    {
     "data": {
      "text/plain": [
       "[1, 5, 11, 7]"
      ]
     },
     "execution_count": 696,
     "metadata": {},
     "output_type": "execute_result"
    }
   ],
   "source": [
    "operator([17, 17, 4, 0], '+', 7)  # test plus"
   ]
  },
  {
   "cell_type": "code",
   "execution_count": null,
   "id": "f01013e8-991f-43e3-a070-3e16999ada0c",
   "metadata": {},
   "outputs": [],
   "source": []
  },
  {
   "cell_type": "code",
   "execution_count": 639,
   "id": "11fef14d-24ac-4a43-8515-949d9e219bbb",
   "metadata": {},
   "outputs": [
    {
     "name": "stdout",
     "output_type": "stream",
     "text": [
      "16\n",
      "9\n",
      "7\n",
      "0\n"
     ]
    }
   ],
   "source": [
    "for div in divisers:  # multiply\n",
    "    print((17*5) % div)"
   ]
  },
  {
   "cell_type": "code",
   "execution_count": 635,
   "id": "16cf20b9-76ef-44da-be7e-33f5b250a22c",
   "metadata": {},
   "outputs": [
    {
     "data": {
      "text/plain": [
       "[23, 19, 13, 17]"
      ]
     },
     "execution_count": 635,
     "metadata": {},
     "output_type": "execute_result"
    }
   ],
   "source": [
    "divisers"
   ]
  },
  {
   "cell_type": "code",
   "execution_count": 647,
   "id": "c1e4713c-c803-4f12-9573-afad3e3ef08f",
   "metadata": {},
   "outputs": [
    {
     "data": {
      "text/plain": [
       "7"
      ]
     },
     "execution_count": 647,
     "metadata": {},
     "output_type": "execute_result"
    }
   ],
   "source": [
    "(40 * 5) % 23 # (add remainder to div * multiplier) moduleo div\n",
    "(36 * 5) % 19\n",
    "(17 * 5) % 13"
   ]
  },
  {
   "cell_type": "code",
   "execution_count": 697,
   "id": "4716ade5-8a39-4677-aa60-8564b4e9c831",
   "metadata": {},
   "outputs": [
    {
     "data": {
      "text/plain": [
       "[16, 9, 7, 0]"
      ]
     },
     "execution_count": 697,
     "metadata": {},
     "output_type": "execute_result"
    }
   ],
   "source": [
    "operator([17, 17, 4, 0], '*', 5)  # test plus"
   ]
  },
  {
   "cell_type": "code",
   "execution_count": 692,
   "id": "be50fe7a-746a-45c8-97aa-9e80f28615de",
   "metadata": {},
   "outputs": [
    {
     "data": {
      "text/plain": [
       "16"
      ]
     },
     "execution_count": 692,
     "metadata": {},
     "output_type": "execute_result"
    }
   ],
   "source": [
    "(40 * 5) % 23"
   ]
  },
  {
   "cell_type": "code",
   "execution_count": null,
   "id": "e48eede2-5bd1-4837-919d-cf0de0b6c93b",
   "metadata": {},
   "outputs": [],
   "source": []
  },
  {
   "cell_type": "code",
   "execution_count": null,
   "id": "c852fa4d-d043-4918-821d-f05bcba94340",
   "metadata": {},
   "outputs": [],
   "source": []
  },
  {
   "cell_type": "code",
   "execution_count": null,
   "id": "e4205de0-1492-46f7-88e1-7c57f684515b",
   "metadata": {},
   "outputs": [],
   "source": []
  },
  {
   "cell_type": "code",
   "execution_count": 649,
   "id": "a0af6c64-6839-4643-ad73-284e915175b8",
   "metadata": {},
   "outputs": [
    {
     "name": "stdout",
     "output_type": "stream",
     "text": [
      "13\n",
      "4\n",
      "3\n",
      "0\n"
     ]
    }
   ],
   "source": [
    "for div in divisers:  # power\n",
    "    print((17**2) % div)"
   ]
  },
  {
   "cell_type": "code",
   "execution_count": 654,
   "id": "cab1e216-dfcf-4920-b7c8-8815d14c61df",
   "metadata": {},
   "outputs": [
    {
     "data": {
      "text/plain": [
       "13"
      ]
     },
     "execution_count": 654,
     "metadata": {},
     "output_type": "execute_result"
    }
   ],
   "source": [
    "(40**2) % 23 # (add remainder to div ** 2) moduleo div\n",
    "# (36 * 5) % 19\n",
    "# (17 * 5) % 13"
   ]
  },
  {
   "cell_type": "code",
   "execution_count": null,
   "id": "cf3581ce-9c35-47df-b625-c9bfc18c0255",
   "metadata": {},
   "outputs": [],
   "source": [
    "# for item get current divider stats\n",
    "# on multiply/plus/power calculate to divider stats"
   ]
  },
  {
   "cell_type": "code",
   "execution_count": 701,
   "id": "f9ff3bc3-8851-4e0b-ae92-de8edbd28307",
   "metadata": {},
   "outputs": [
    {
     "data": {
      "text/plain": [
       "[13, 4, 3, 0]"
      ]
     },
     "execution_count": 701,
     "metadata": {},
     "output_type": "execute_result"
    }
   ],
   "source": [
    "operator([17, 17, 4, 0], '*', [17, 17, 4, 0])  # test power"
   ]
  },
  {
   "cell_type": "code",
   "execution_count": null,
   "id": "ba75f5f3-8bb5-4586-9a0e-af58124a67de",
   "metadata": {},
   "outputs": [],
   "source": []
  },
  {
   "cell_type": "code",
   "execution_count": null,
   "id": "71dd4d0d-e8b2-419c-8ab1-9daacd969835",
   "metadata": {},
   "outputs": [],
   "source": []
  },
  {
   "cell_type": "code",
   "execution_count": null,
   "id": "46463ad3-a1f9-4ebb-952c-006137163b4d",
   "metadata": {},
   "outputs": [],
   "source": []
  }
 ],
 "metadata": {
  "kernelspec": {
   "display_name": "Python 3 (ipykernel)",
   "language": "python",
   "name": "python3"
  },
  "language_info": {
   "codemirror_mode": {
    "name": "ipython",
    "version": 3
   },
   "file_extension": ".py",
   "mimetype": "text/x-python",
   "name": "python",
   "nbconvert_exporter": "python",
   "pygments_lexer": "ipython3",
   "version": "3.9.13"
  }
 },
 "nbformat": 4,
 "nbformat_minor": 5
}
