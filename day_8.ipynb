{
 "cells": [
  {
   "cell_type": "code",
   "execution_count": 1,
   "id": "91b2112b-3854-4254-ae3a-4ec9a79e8db0",
   "metadata": {},
   "outputs": [],
   "source": [
    "import numpy as np"
   ]
  },
  {
   "cell_type": "code",
   "execution_count": 160,
   "id": "32f22f7f-f2b8-4ded-860f-1d883087349b",
   "metadata": {},
   "outputs": [],
   "source": [
    "with open('data/day_8.txt') as handle:\n",
    "    trees = [line[:-1] for line in handle.readlines()]"
   ]
  },
  {
   "cell_type": "code",
   "execution_count": 152,
   "id": "58dd65e2-f600-418c-9aca-2adcb9115f0f",
   "metadata": {},
   "outputs": [],
   "source": [
    "trees = [\n",
    "    '30373',\n",
    "    '25512',\n",
    "    '65332',\n",
    "    '33549',\n",
    "    '35390'\n",
    "]"
   ]
  },
  {
   "cell_type": "code",
   "execution_count": 161,
   "id": "ed6936fb-7d3d-420c-aa8c-49ee44276daf",
   "metadata": {},
   "outputs": [],
   "source": [
    "array = []\n",
    "for row in trees:\n",
    "    array.append(list(row))\n",
    "trees = np.array(array).astype('uint8')"
   ]
  },
  {
   "cell_type": "code",
   "execution_count": 162,
   "id": "d696a1f9-6947-4cca-92dc-184dbc8881c0",
   "metadata": {},
   "outputs": [
    {
     "data": {
      "text/plain": [
       "(99, 99)"
      ]
     },
     "execution_count": 162,
     "metadata": {},
     "output_type": "execute_result"
    }
   ],
   "source": [
    "trees.shape"
   ]
  },
  {
   "cell_type": "code",
   "execution_count": 163,
   "id": "7388f73c-0fde-4351-bdc0-f9ac05d539a9",
   "metadata": {},
   "outputs": [
    {
     "data": {
      "text/plain": [
       "99"
      ]
     },
     "execution_count": 163,
     "metadata": {},
     "output_type": "execute_result"
    }
   ],
   "source": [
    "bound = trees.shape[0]\n",
    "bound"
   ]
  },
  {
   "cell_type": "code",
   "execution_count": 115,
   "id": "d0888b48-2945-452b-a382-bf8255acac48",
   "metadata": {
    "jupyter": {
     "source_hidden": true
    },
    "tags": []
   },
   "outputs": [],
   "source": [
    "# part 1\n",
    "def check_straight(row, col):\n",
    "    \"\"\" returns true visible from an angle\"\"\" \n",
    "    # row = 1\n",
    "    # col = 1\n",
    "    val = trees[row, col]\n",
    "\n",
    "    down = trees[row+1:, col]\n",
    "    up = trees[0:row, col][::-1]\n",
    "    left = trees[row, 0: col][::-1]\n",
    "    right = trees[row, col+1:]\n",
    "    \n",
    "    print(down)\n",
    "    print(up)\n",
    "    print(left)\n",
    "    print(right)\n",
    "\n",
    "    if max(up) < val:\n",
    "        return True\n",
    "    elif max(down) < val:\n",
    "        return True\n",
    "    elif max(left) < val:\n",
    "        return True\n",
    "    elif max(right) < val:\n",
    "        return True\n",
    "    else:\n",
    "        return False"
   ]
  },
  {
   "cell_type": "code",
   "execution_count": 98,
   "id": "497d9bb8-3674-47ef-9841-034e77d2ba45",
   "metadata": {},
   "outputs": [],
   "source": [
    "# part 1\n",
    "bound_trees = 0\n",
    "interior_trees = 0\n",
    "\n",
    "for row in range(bound):\n",
    "    for col in range(bound):\n",
    "        if (row == 0) or (row == bound-1) or (col == 0) or (col == bound-1):\n",
    "            bound_trees += 1\n",
    "            continue\n",
    "        \n",
    "        if check_straight(row, col):\n",
    "            interior_trees += 1\n",
    "            #print(row, col)"
   ]
  },
  {
   "cell_type": "code",
   "execution_count": 99,
   "id": "b68872a7-8bdd-40fb-8a6d-624ffcac5169",
   "metadata": {},
   "outputs": [
    {
     "data": {
      "text/plain": [
       "(392, 1296)"
      ]
     },
     "execution_count": 99,
     "metadata": {},
     "output_type": "execute_result"
    }
   ],
   "source": [
    "bound_trees, interior_trees"
   ]
  },
  {
   "cell_type": "code",
   "execution_count": null,
   "id": "3e9c39ac-69ce-4dd0-8a19-45ad5b365b45",
   "metadata": {},
   "outputs": [],
   "source": []
  },
  {
   "cell_type": "markdown",
   "id": "1e28dd4a-b77b-451c-bbe9-f4edb71733d1",
   "metadata": {},
   "source": [
    "## part 2"
   ]
  },
  {
   "cell_type": "code",
   "execution_count": 132,
   "id": "12bedca8-557d-4db5-9ad5-aa20514ed111",
   "metadata": {},
   "outputs": [],
   "source": [
    "def get_distance(val, line):\n",
    "    \n",
    "    if type(line) is int:\n",
    "        line = [line]\n",
    "\n",
    "    tree_view = 0\n",
    "    for tree in line:\n",
    "        tree_view += 1\n",
    "        if val <= tree:\n",
    "            break\n",
    "\n",
    "    return tree_view"
   ]
  },
  {
   "cell_type": "code",
   "execution_count": 143,
   "id": "27e7ee0b-8f4b-4a02-b494-2815ff03f600",
   "metadata": {},
   "outputs": [],
   "source": [
    "# part 2\n",
    "def check_scenes(row, col):\n",
    "    \"\"\" returns true visible from an angle\"\"\" \n",
    "    # row = 1\n",
    "    # col = 1\n",
    "    val = trees[row, col]\n",
    "\n",
    "    down = trees[row+1:, col]\n",
    "    up = trees[0:row, col][::-1]\n",
    "    left = trees[row, 0: col][::-1]\n",
    "    right = trees[row, col+1:]\n",
    "    \n",
    "    # print(down)\n",
    "    # print(up)\n",
    "    # print(left)\n",
    "    # print(right)\n",
    "\n",
    "    score = 1\n",
    "    for line in [down, up, left, right]:\n",
    "        # print(get_distance(val, line))\n",
    "        score = score * get_distance(val, line)\n",
    "        \n",
    "    return score"
   ]
  },
  {
   "cell_type": "code",
   "execution_count": 146,
   "id": "66d30f2e-74e3-4e73-89b4-4d6946af26ac",
   "metadata": {},
   "outputs": [
    {
     "data": {
      "text/plain": [
       "4"
      ]
     },
     "execution_count": 146,
     "metadata": {},
     "output_type": "execute_result"
    }
   ],
   "source": [
    "check_scenes(1,2)"
   ]
  },
  {
   "cell_type": "code",
   "execution_count": 164,
   "id": "04e71403-f174-4258-abee-2ead0080c11a",
   "metadata": {},
   "outputs": [],
   "source": [
    "# part 2\n",
    "scores = []\n",
    "\n",
    "for row in range(bound):\n",
    "    for col in range(bound):\n",
    "        if (row == 0) or (row == bound-1) or (col == 0) or (col == bound-1):\n",
    "            bound_trees += 1\n",
    "            continue\n",
    "        \n",
    "        score = check_scenes(row, col)\n",
    "        scores.append(score)"
   ]
  },
  {
   "cell_type": "code",
   "execution_count": 165,
   "id": "674bad17-7da7-49f8-aaaa-d31e32707eec",
   "metadata": {},
   "outputs": [
    {
     "data": {
      "text/plain": [
       "410400"
      ]
     },
     "execution_count": 165,
     "metadata": {},
     "output_type": "execute_result"
    }
   ],
   "source": [
    "max(scores)"
   ]
  },
  {
   "cell_type": "code",
   "execution_count": 159,
   "id": "b62b2c66-4649-4f0e-b8e7-f9a941ca29c7",
   "metadata": {},
   "outputs": [
    {
     "data": {
      "text/plain": [
       "[1, 4, 1, 6, 1, 2, 1, 8, 3]"
      ]
     },
     "execution_count": 159,
     "metadata": {},
     "output_type": "execute_result"
    }
   ],
   "source": [
    "scores"
   ]
  },
  {
   "cell_type": "code",
   "execution_count": null,
   "id": "681009ed-5861-43d9-b611-2b3c52b309fb",
   "metadata": {},
   "outputs": [],
   "source": []
  }
 ],
 "metadata": {
  "kernelspec": {
   "display_name": "Python 3 (ipykernel)",
   "language": "python",
   "name": "python3"
  },
  "language_info": {
   "codemirror_mode": {
    "name": "ipython",
    "version": 3
   },
   "file_extension": ".py",
   "mimetype": "text/x-python",
   "name": "python",
   "nbconvert_exporter": "python",
   "pygments_lexer": "ipython3",
   "version": "3.9.13"
  }
 },
 "nbformat": 4,
 "nbformat_minor": 5
}
