{
 "cells": [
  {
   "cell_type": "code",
   "execution_count": 1,
   "id": "91b2112b-3854-4254-ae3a-4ec9a79e8db0",
   "metadata": {},
   "outputs": [],
   "source": [
    "import numpy as np"
   ]
  },
  {
   "cell_type": "code",
   "execution_count": 91,
   "id": "32f22f7f-f2b8-4ded-860f-1d883087349b",
   "metadata": {},
   "outputs": [],
   "source": [
    "with open('data/day_8.txt') as handle:\n",
    "    trees = [line[:-1] for line in handle.readlines()]"
   ]
  },
  {
   "cell_type": "code",
   "execution_count": 101,
   "id": "58dd65e2-f600-418c-9aca-2adcb9115f0f",
   "metadata": {},
   "outputs": [],
   "source": [
    "trees = [\n",
    "    '30373',\n",
    "    '25512',\n",
    "    '65332',\n",
    "    '33549',\n",
    "    '35390'\n",
    "]"
   ]
  },
  {
   "cell_type": "code",
   "execution_count": 102,
   "id": "ed6936fb-7d3d-420c-aa8c-49ee44276daf",
   "metadata": {},
   "outputs": [],
   "source": [
    "array = []\n",
    "for row in trees:\n",
    "    array.append(list(row))\n",
    "trees = np.array(array).astype('uint8')"
   ]
  },
  {
   "cell_type": "code",
   "execution_count": 103,
   "id": "d696a1f9-6947-4cca-92dc-184dbc8881c0",
   "metadata": {},
   "outputs": [
    {
     "data": {
      "text/plain": [
       "(5, 5)"
      ]
     },
     "execution_count": 103,
     "metadata": {},
     "output_type": "execute_result"
    }
   ],
   "source": [
    "trees.shape"
   ]
  },
  {
   "cell_type": "code",
   "execution_count": 104,
   "id": "7388f73c-0fde-4351-bdc0-f9ac05d539a9",
   "metadata": {},
   "outputs": [],
   "source": [
    "bound = 5 #99"
   ]
  },
  {
   "cell_type": "code",
   "execution_count": 115,
   "id": "d0888b48-2945-452b-a382-bf8255acac48",
   "metadata": {},
   "outputs": [],
   "source": [
    "def check_straight(row, col):\n",
    "    \"\"\" returns true visible from an angle\"\"\"\n",
    "    # row = 1\n",
    "    # col = 1\n",
    "    val = trees[row, col]\n",
    "\n",
    "    down = trees[row+1:, col]\n",
    "    up = trees[0:row, col][::-1]\n",
    "    left = trees[row, 0: col][::-1]\n",
    "    right = trees[row, col+1:]\n",
    "    \n",
    "    print(down)\n",
    "    print(up)\n",
    "    print(left)\n",
    "    print(right)\n",
    "\n",
    "    if max(up) < val:\n",
    "        return True\n",
    "    elif max(down) < val:\n",
    "        return True\n",
    "    elif max(left) < val:\n",
    "        return True\n",
    "    elif max(right) < val:\n",
    "        return True\n",
    "    else:\n",
    "        return False"
   ]
  },
  {
   "cell_type": "code",
   "execution_count": 98,
   "id": "497d9bb8-3674-47ef-9841-034e77d2ba45",
   "metadata": {},
   "outputs": [],
   "source": [
    "bound_trees = 0\n",
    "interior_trees = 0\n",
    "\n",
    "for row in range(bound):\n",
    "    for col in range(bound):\n",
    "        if (row == 0) or (row == bound-1) or (col == 0) or (col == bound-1):\n",
    "            bound_trees += 1\n",
    "            continue\n",
    "        \n",
    "        if check_straight(row, col):\n",
    "            interior_trees += 1\n",
    "            #print(row, col)"
   ]
  },
  {
   "cell_type": "code",
   "execution_count": 99,
   "id": "b68872a7-8bdd-40fb-8a6d-624ffcac5169",
   "metadata": {},
   "outputs": [
    {
     "data": {
      "text/plain": [
       "(392, 1296)"
      ]
     },
     "execution_count": 99,
     "metadata": {},
     "output_type": "execute_result"
    }
   ],
   "source": [
    "bound_trees, interior_trees"
   ]
  },
  {
   "cell_type": "code",
   "execution_count": 100,
   "id": "e743308e-94ee-47e2-9e69-8054e19d7dcc",
   "metadata": {},
   "outputs": [
    {
     "data": {
      "text/plain": [
       "1688"
      ]
     },
     "execution_count": 100,
     "metadata": {},
     "output_type": "execute_result"
    }
   ],
   "source": [
    "sum((392, 1296))"
   ]
  },
  {
   "cell_type": "code",
   "execution_count": 116,
   "id": "b165f17d-1e9a-4e01-9822-26d60fa4387a",
   "metadata": {},
   "outputs": [
    {
     "name": "stdout",
     "output_type": "stream",
     "text": [
      "[3 5 3]\n",
      "[3]\n",
      "[5 2]\n",
      "[1 2]\n"
     ]
    },
    {
     "data": {
      "text/plain": [
       "True"
      ]
     },
     "execution_count": 116,
     "metadata": {},
     "output_type": "execute_result"
    }
   ],
   "source": [
    "check_straight(1, 2)"
   ]
  },
  {
   "cell_type": "code",
   "execution_count": 114,
   "id": "14551668-e8d4-47c3-b4b9-9ff21b169187",
   "metadata": {},
   "outputs": [
    {
     "data": {
      "text/plain": [
       "array([5, 5, 0], dtype=uint8)"
      ]
     },
     "execution_count": 114,
     "metadata": {},
     "output_type": "execute_result"
    }
   ],
   "source": [
    "trees[0:3, 1][::-1]"
   ]
  },
  {
   "cell_type": "code",
   "execution_count": null,
   "id": "66d30f2e-74e3-4e73-89b4-4d6946af26ac",
   "metadata": {},
   "outputs": [],
   "source": []
  }
 ],
 "metadata": {
  "kernelspec": {
   "display_name": "Python 3 (ipykernel)",
   "language": "python",
   "name": "python3"
  },
  "language_info": {
   "codemirror_mode": {
    "name": "ipython",
    "version": 3
   },
   "file_extension": ".py",
   "mimetype": "text/x-python",
   "name": "python",
   "nbconvert_exporter": "python",
   "pygments_lexer": "ipython3",
   "version": "3.9.13"
  }
 },
 "nbformat": 4,
 "nbformat_minor": 5
}
