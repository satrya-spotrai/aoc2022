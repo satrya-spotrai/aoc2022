{
 "cells": [
  {
   "cell_type": "code",
   "execution_count": 70,
   "id": "b86805c1-ebfd-4fc8-ac8e-ec7a059f63b6",
   "metadata": {},
   "outputs": [],
   "source": [
    "with open('data/day_9.txt') as handle:\n",
    "    lines = [line[:-1] for line in handle.readlines()]"
   ]
  },
  {
   "cell_type": "code",
   "execution_count": 72,
   "id": "fb2bc056-e5fb-4217-8a3e-d53fb0b34391",
   "metadata": {},
   "outputs": [
    {
     "data": {
      "text/plain": [
       "['L 1', 'D 2', 'U 1']"
      ]
     },
     "execution_count": 72,
     "metadata": {},
     "output_type": "execute_result"
    }
   ],
   "source": [
    "lines[:3]"
   ]
  },
  {
   "cell_type": "code",
   "execution_count": 141,
   "id": "e1d748b2-a15f-4776-8be0-0872e972712b",
   "metadata": {},
   "outputs": [],
   "source": [
    "lines = [\n",
    "'R 4',\n",
    "'U 4',\n",
    "'L 3',\n",
    "'D 1',\n",
    "'R 4',\n",
    "'D 1',\n",
    "'L 5',\n",
    "'R 2'\n",
    "]"
   ]
  },
  {
   "cell_type": "code",
   "execution_count": 84,
   "id": "1cfaf0e0-7f2a-4711-8a25-79152b603240",
   "metadata": {},
   "outputs": [],
   "source": [
    "def offside(row, col, tail):\n",
    "    \"\"\" \n",
    "    get head border, returns True if tail out of range\n",
    "    123\n",
    "    894\n",
    "    765\n",
    "    \"\"\"\n",
    "    adjacent_position = [\n",
    "        [row+1, col-1],\n",
    "        [row+1, col],\n",
    "        [row+1, col+1],\n",
    "        [row, col+1],\n",
    "        [row-1, col+1],\n",
    "        [row-1, col],\n",
    "        [row-1, col-1],\n",
    "        [row, col-1],\n",
    "        [row, col]\n",
    "    ]\n",
    "    \n",
    "    if tail not in adjacent_position:\n",
    "        return True\n",
    "    \n",
    "    return False"
   ]
  },
  {
   "cell_type": "code",
   "execution_count": 97,
   "id": "90a4929f-fb2c-48c2-95f8-b3bf8a6d4cfe",
   "metadata": {},
   "outputs": [
    {
     "data": {
      "text/plain": [
       "True"
      ]
     },
     "execution_count": 97,
     "metadata": {},
     "output_type": "execute_result"
    }
   ],
   "source": [
    "offside(0, 0, [0, -2])"
   ]
  },
  {
   "cell_type": "code",
   "execution_count": 119,
   "id": "89599b29-3775-4786-8712-433e2f23ba26",
   "metadata": {},
   "outputs": [],
   "source": [
    "def next_position(h_row, h_col, t_row, t_col):\n",
    "\n",
    "    if h_row == t_row or h_col == t_col:  # common row/col flow\n",
    "        if h_row > t_row:  # up\n",
    "            return [t_row + 1, t_col]\n",
    "\n",
    "        elif h_col > t_col:  # right\n",
    "            return [t_row, t_col + 1]\n",
    "\n",
    "        elif h_row < t_row:  # down\n",
    "            return [t_row - 1, t_col]\n",
    "\n",
    "        else:  # left\n",
    "            return [t_row, t_col -1]\n",
    "    # diagonal flow\n",
    "    else:\n",
    "        if h_row > t_row and h_col > t_col:  # top right\n",
    "            return [t_row + 1, t_col + 1]\n",
    "\n",
    "        elif h_row < t_row and h_col > t_col:  # bottom right\n",
    "            return [t_row - 1, t_col + 1]\n",
    "\n",
    "        elif h_row < t_row and h_col < t_col:  # bottom left\n",
    "            return [t_row - 1, t_col - 1]\n",
    "\n",
    "        else:  # top left\n",
    "            return [t_row + 1, t_col - 1]"
   ]
  },
  {
   "cell_type": "code",
   "execution_count": 120,
   "id": "2fd5894e-30b3-45e7-adb8-e4b3d0bbcb18",
   "metadata": {},
   "outputs": [
    {
     "data": {
      "text/plain": [
       "[1, -1]"
      ]
     },
     "execution_count": 120,
     "metadata": {},
     "output_type": "execute_result"
    }
   ],
   "source": [
    "next_position(*[2, -2], *[0, 0])"
   ]
  },
  {
   "cell_type": "code",
   "execution_count": 135,
   "id": "58540e30-dbfd-478c-a6f5-2d7685ce5641",
   "metadata": {},
   "outputs": [],
   "source": [
    "def process_node(new_head, tail):\n",
    "    # for node in nodes\n",
    "    if offside(*new_head, tail):\n",
    "        tail = next_position(*new_head, *tail)\n",
    "        tail_visits.append(tuple(tail))\n",
    "    \n",
    "    return tail"
   ]
  },
  {
   "cell_type": "code",
   "execution_count": 142,
   "id": "268086f5-d2ea-469a-bff5-5eb2f05468f3",
   "metadata": {},
   "outputs": [],
   "source": [
    "head = [0, 0]\n",
    "tail = [0, 0]\n",
    "tail_visits = []\n",
    "\n",
    "for line in lines:\n",
    "    # origin [row, col] - start: bottom-left\n",
    "    direction, amount = line.split()\n",
    "    amount = int(amount)\n",
    "    \n",
    "    if direction == 'R':\n",
    "        for i in range(amount):\n",
    "            new_head = [head[0], head[1] + 1]\n",
    "            \n",
    "            tail = process_node(new_head, tail)\n",
    "\n",
    "            head = new_head\n",
    "    \n",
    "    elif direction == 'L':\n",
    "        for i in range(amount):\n",
    "            new_head = [head[0], head[1] + 1]\n",
    "            \n",
    "            tail = process_node(new_head, tail)\n",
    "\n",
    "            head = new_head\n",
    "\n",
    "    elif direction == 'U':\n",
    "        for i in range(amount):\n",
    "            new_head = [head[0], head[1] + 1]\n",
    "            \n",
    "            tail = process_node(new_head, tail)\n",
    "\n",
    "            head = new_head\n",
    "\n",
    "    else:  # 'D'\n",
    "        for i in range(amount):\n",
    "            new_head = [head[0], head[1] + 1]\n",
    "            \n",
    "            tail = process_node(new_head, tail)\n",
    "\n",
    "            head = new_head\n",
    "\n",
    "    # print(line, head)"
   ]
  },
  {
   "cell_type": "code",
   "execution_count": 143,
   "id": "df0ac012-aa15-4cd7-9e1c-abb58fb73f2d",
   "metadata": {},
   "outputs": [
    {
     "data": {
      "text/plain": [
       "[(0, 1),\n",
       " (0, 2),\n",
       " (0, 3),\n",
       " (0, 4),\n",
       " (0, 5),\n",
       " (0, 6),\n",
       " (0, 7),\n",
       " (0, 8),\n",
       " (0, 9),\n",
       " (0, 10),\n",
       " (0, 11),\n",
       " (0, 12),\n",
       " (0, 13),\n",
       " (0, 14),\n",
       " (0, 15),\n",
       " (0, 16),\n",
       " (0, 17),\n",
       " (0, 18),\n",
       " (0, 19),\n",
       " (0, 20),\n",
       " (0, 21),\n",
       " (0, 22),\n",
       " (0, 23)]"
      ]
     },
     "execution_count": 143,
     "metadata": {},
     "output_type": "execute_result"
    }
   ],
   "source": [
    "tail_visits"
   ]
  },
  {
   "cell_type": "code",
   "execution_count": 77,
   "id": "119f1534-707c-4fc7-8e8d-44a60546d108",
   "metadata": {},
   "outputs": [
    {
     "data": {
      "text/plain": [
       "6018"
      ]
     },
     "execution_count": 77,
     "metadata": {},
     "output_type": "execute_result"
    }
   ],
   "source": [
    "len(set(tail_visits)) + 1 # (add start position)"
   ]
  },
  {
   "cell_type": "code",
   "execution_count": null,
   "id": "5ec3fb55-1db0-4fe1-83a2-abb3ff59d612",
   "metadata": {},
   "outputs": [],
   "source": [
    "# 6017 too low"
   ]
  },
  {
   "cell_type": "code",
   "execution_count": null,
   "id": "6e927d20-04af-4343-86c1-337f5485da85",
   "metadata": {},
   "outputs": [],
   "source": []
  },
  {
   "cell_type": "code",
   "execution_count": null,
   "id": "b0f8c852-f754-44bf-890a-254508923d15",
   "metadata": {},
   "outputs": [],
   "source": []
  }
 ],
 "metadata": {
  "kernelspec": {
   "display_name": "Python 3 (ipykernel)",
   "language": "python",
   "name": "python3"
  },
  "language_info": {
   "codemirror_mode": {
    "name": "ipython",
    "version": 3
   },
   "file_extension": ".py",
   "mimetype": "text/x-python",
   "name": "python",
   "nbconvert_exporter": "python",
   "pygments_lexer": "ipython3",
   "version": "3.9.13"
  }
 },
 "nbformat": 4,
 "nbformat_minor": 5
}
