{
 "cells": [
  {
   "cell_type": "code",
   "execution_count": 70,
   "id": "b86805c1-ebfd-4fc8-ac8e-ec7a059f63b6",
   "metadata": {},
   "outputs": [],
   "source": [
    "with open('data/day_9.txt') as handle:\n",
    "    lines = [line[:-1] for line in handle.readlines()]"
   ]
  },
  {
   "cell_type": "code",
   "execution_count": 72,
   "id": "fb2bc056-e5fb-4217-8a3e-d53fb0b34391",
   "metadata": {},
   "outputs": [
    {
     "data": {
      "text/plain": [
       "['L 1', 'D 2', 'U 1']"
      ]
     },
     "execution_count": 72,
     "metadata": {},
     "output_type": "execute_result"
    }
   ],
   "source": [
    "lines[:3]"
   ]
  },
  {
   "cell_type": "code",
   "execution_count": 1,
   "id": "e1d748b2-a15f-4776-8be0-0872e972712b",
   "metadata": {},
   "outputs": [],
   "source": [
    "lines = [\n",
    "'R 4',\n",
    "'U 4',\n",
    "'L 3',\n",
    "'D 1',\n",
    "'R 4',\n",
    "'D 1',\n",
    "'L 5',\n",
    "'R 2'\n",
    "]"
   ]
  },
  {
   "cell_type": "code",
   "execution_count": 49,
   "id": "1cfaf0e0-7f2a-4711-8a25-79152b603240",
   "metadata": {},
   "outputs": [],
   "source": [
    "def get_radius(row, col):\n",
    "    \"\"\" returns:\n",
    "    123\n",
    "    894\n",
    "    765\n",
    "    \"\"\"\n",
    "    adjacent_position = [\n",
    "        [row+1, col-1],\n",
    "        [row+1, col],\n",
    "        [row+1, col+1],\n",
    "        [row, col+1],\n",
    "        [row-1, col+1],\n",
    "        [row-1, col],\n",
    "        [row-1, col-1],\n",
    "        [row, col-1],\n",
    "        [row, col]\n",
    "    ]\n",
    "    \n",
    "    return adjacent_position"
   ]
  },
  {
   "cell_type": "code",
   "execution_count": 50,
   "id": "90a4929f-fb2c-48c2-95f8-b3bf8a6d4cfe",
   "metadata": {},
   "outputs": [
    {
     "data": {
      "text/plain": [
       "[[1, -1], [1, 0], [1, 1], [0, 1], [-1, 1], [-1, 0], [-1, -1], [0, -1], [0, 0]]"
      ]
     },
     "execution_count": 50,
     "metadata": {},
     "output_type": "execute_result"
    }
   ],
   "source": [
    "get_radius(0, 0)"
   ]
  },
  {
   "cell_type": "code",
   "execution_count": 73,
   "id": "268086f5-d2ea-469a-bff5-5eb2f05468f3",
   "metadata": {},
   "outputs": [],
   "source": [
    "head = [0, 0]\n",
    "tail = [0, 0]\n",
    "tail_visits = []\n",
    "\n",
    "for line in lines:\n",
    "    # origin [row, col] - start: bottom-left\n",
    "    direction, amount = line.split()\n",
    "    amount = int(amount)\n",
    "    \n",
    "    if direction == 'R':\n",
    "        for i in range(amount):\n",
    "            new_head = [head[0], head[1] + 1]\n",
    "        \n",
    "            radius = get_radius(*new_head)\n",
    "            if tail not in radius:\n",
    "                tail = head\n",
    "                tail_visits.append(tuple(tail))\n",
    "\n",
    "            head = new_head\n",
    "    \n",
    "    elif direction == 'L':\n",
    "        for i in range(amount):\n",
    "            new_head = [head[0], head[1] - 1]\n",
    "\n",
    "            radius = get_radius(*new_head)\n",
    "            if tail not in radius:\n",
    "                tail = head\n",
    "                tail_visits.append(tuple(tail))\n",
    "\n",
    "            head = new_head\n",
    "\n",
    "    elif direction == 'U':\n",
    "        for i in range(amount):\n",
    "            new_head = [head[0] + 1, head[1]]\n",
    "            \n",
    "            radius = get_radius(*new_head)\n",
    "            if tail not in radius:\n",
    "                tail = head\n",
    "                tail_visits.append(tuple(tail))\n",
    "\n",
    "            head = new_head\n",
    "\n",
    "    else:  # 'D'\n",
    "        for i in range(amount):\n",
    "            new_head = [head[0] - 1, head[1]]\n",
    "    \n",
    "            radius = get_radius(*new_head)\n",
    "            if tail not in radius:\n",
    "                tail = head\n",
    "                tail_visits.append(tuple(tail))\n",
    "\n",
    "            head = new_head\n",
    "\n",
    "    # print(line, head)"
   ]
  },
  {
   "cell_type": "code",
   "execution_count": 75,
   "id": "df0ac012-aa15-4cd7-9e1c-abb58fb73f2d",
   "metadata": {},
   "outputs": [
    {
     "data": {
      "text/plain": [
       "8963"
      ]
     },
     "execution_count": 75,
     "metadata": {},
     "output_type": "execute_result"
    }
   ],
   "source": [
    "len(tail_visits)"
   ]
  },
  {
   "cell_type": "code",
   "execution_count": 77,
   "id": "119f1534-707c-4fc7-8e8d-44a60546d108",
   "metadata": {},
   "outputs": [
    {
     "data": {
      "text/plain": [
       "6018"
      ]
     },
     "execution_count": 77,
     "metadata": {},
     "output_type": "execute_result"
    }
   ],
   "source": [
    "len(set(tail_visits)) + 1 # (add start position)"
   ]
  },
  {
   "cell_type": "code",
   "execution_count": null,
   "id": "5ec3fb55-1db0-4fe1-83a2-abb3ff59d612",
   "metadata": {},
   "outputs": [],
   "source": [
    "# 6017 too low"
   ]
  }
 ],
 "metadata": {
  "kernelspec": {
   "display_name": "Python 3 (ipykernel)",
   "language": "python",
   "name": "python3"
  },
  "language_info": {
   "codemirror_mode": {
    "name": "ipython",
    "version": 3
   },
   "file_extension": ".py",
   "mimetype": "text/x-python",
   "name": "python",
   "nbconvert_exporter": "python",
   "pygments_lexer": "ipython3",
   "version": "3.9.13"
  }
 },
 "nbformat": 4,
 "nbformat_minor": 5
}
