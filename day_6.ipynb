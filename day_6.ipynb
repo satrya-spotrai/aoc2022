{
 "cells": [
  {
   "cell_type": "code",
   "execution_count": 4,
   "id": "4f662efe-498f-4a0f-a908-b3ad3fffde4c",
   "metadata": {},
   "outputs": [],
   "source": [
    "with open('data/day_6.txt') as handle:\n",
    "    lines = handle.read()"
   ]
  },
  {
   "cell_type": "code",
   "execution_count": 64,
   "id": "d340a80d-33d8-4909-9242-542e9c7603a2",
   "metadata": {
    "tags": []
   },
   "outputs": [],
   "source": [
    "inp = lines[:-1]\n",
    "# inp = 'nznrnfrfntjfmvfwmzdfjlvtqnbhcprsg'"
   ]
  },
  {
   "cell_type": "code",
   "execution_count": 47,
   "id": "5d5ffcd7-d1a2-4157-9b3f-46061aa122c3",
   "metadata": {},
   "outputs": [
    {
     "name": "stdout",
     "output_type": "stream",
     "text": [
      "7\n"
     ]
    }
   ],
   "source": [
    "# part 1\n",
    "for i in range(3, len(inp), 1):\n",
    "    begin = i - 3\n",
    "    end = i + 1\n",
    "    # print(test[begin: end])\n",
    "    if len(set(inp[begin: end])) > 3:\n",
    "        print(i + 1)\n",
    "        break"
   ]
  },
  {
   "cell_type": "code",
   "execution_count": 66,
   "id": "cb4b8b19-6997-41fe-a675-97c174af825e",
   "metadata": {},
   "outputs": [
    {
     "name": "stdout",
     "output_type": "stream",
     "text": [
      "3965\n"
     ]
    }
   ],
   "source": [
    "# part 1\n",
    "for i in range(14, len(inp), 1):\n",
    "    begin = i - 14\n",
    "    end = i\n",
    "    #print(inp[begin: end])\n",
    "    if len(set(inp[begin: end])) > 13:\n",
    "        print(i)\n",
    "        break"
   ]
  },
  {
   "cell_type": "code",
   "execution_count": null,
   "id": "1aeea661-a454-4f65-b533-d0216b2feca3",
   "metadata": {},
   "outputs": [],
   "source": []
  }
 ],
 "metadata": {
  "kernelspec": {
   "display_name": "Python 3 (ipykernel)",
   "language": "python",
   "name": "python3"
  },
  "language_info": {
   "codemirror_mode": {
    "name": "ipython",
    "version": 3
   },
   "file_extension": ".py",
   "mimetype": "text/x-python",
   "name": "python",
   "nbconvert_exporter": "python",
   "pygments_lexer": "ipython3",
   "version": "3.9.13"
  }
 },
 "nbformat": 4,
 "nbformat_minor": 5
}
