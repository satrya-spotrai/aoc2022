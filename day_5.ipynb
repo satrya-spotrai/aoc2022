{
 "cells": [
  {
   "cell_type": "code",
   "execution_count": 9,
   "id": "8ae35cb1-f212-44f3-8fea-9ac254eb9ed3",
   "metadata": {},
   "outputs": [],
   "source": [
    "with open('data/day_5.txt') as handle:\n",
    "    lines = [line[:-1] for line in handle.readlines()]"
   ]
  },
  {
   "cell_type": "code",
   "execution_count": 10,
   "id": "630c82cd-6fb6-46eb-85ab-5493417ec5a7",
   "metadata": {
    "collapsed": true,
    "jupyter": {
     "outputs_hidden": true
    },
    "tags": []
   },
   "outputs": [
    {
     "data": {
      "text/plain": [
       "['            [J]             [B] [W]',\n",
       " '            [T]     [W] [F] [R] [Z]',\n",
       " '        [Q] [M]     [J] [R] [W] [H]',\n",
       " '    [F] [L] [P]     [R] [N] [Z] [G]',\n",
       " '[F] [M] [S] [Q]     [M] [P] [S] [C]',\n",
       " '[L] [V] [R] [V] [W] [P] [C] [P] [J]',\n",
       " '[M] [Z] [V] [S] [S] [V] [Q] [H] [M]',\n",
       " '[W] [B] [H] [F] [L] [F] [J] [V] [B]',\n",
       " ' 1   2   3   4   5   6   7   8   9 ']"
      ]
     },
     "execution_count": 10,
     "metadata": {},
     "output_type": "execute_result"
    }
   ],
   "source": [
    "lines[:9]"
   ]
  },
  {
   "cell_type": "code",
   "execution_count": 71,
   "id": "e676b84c-cae3-401d-abca-c14aa9c36131",
   "metadata": {},
   "outputs": [],
   "source": [
    "teststacks = {\n",
    "    1: ['Z', 'N'],\n",
    "    2: ['M', 'C', 'D'],\n",
    "    3: ['P']\n",
    "}"
   ]
  },
  {
   "cell_type": "code",
   "execution_count": 70,
   "id": "c8d60ecb-1ce5-4364-a67d-7bae16c6c8a5",
   "metadata": {},
   "outputs": [],
   "source": [
    "testmoves = [\n",
    "    'move 1 from 2 to 1',\n",
    "    'move 3 from 1 to 3',\n",
    "    'move 2 from 2 to 1',\n",
    "    'move 1 from 1 to 2'\n",
    "]"
   ]
  },
  {
   "cell_type": "code",
   "execution_count": 79,
   "id": "23cec0dd-16d7-4ecd-bdcb-a244c4dc76be",
   "metadata": {},
   "outputs": [],
   "source": [
    "stacks = {\n",
    "    1: ['W', 'M', 'L', 'F'],\n",
    "    2: ['B', 'Z', 'V', 'M', 'F'],\n",
    "    3: ['H', 'V', 'R', 'S', 'L', 'Q'],\n",
    "    4: ['F', 'S', 'V', 'Q', 'P', 'M', 'T', 'J'],\n",
    "    5: ['L', 'S', 'W'],\n",
    "    6: ['F', 'V', 'P', 'M', 'R', 'J', 'W'],\n",
    "    7: ['J', 'Q', 'C', 'P', 'N', 'R', 'F'],\n",
    "    8: ['V', 'H', 'P', 'S', 'Z', 'W', 'R', 'B'],\n",
    "    9: ['B', 'M', 'J', 'C', 'G', 'H', 'Z', 'W']\n",
    "}"
   ]
  },
  {
   "cell_type": "code",
   "execution_count": 57,
   "id": "569efcd9-830a-489f-ace7-e25e48a5b6bc",
   "metadata": {},
   "outputs": [],
   "source": [
    "moves = lines[10:]"
   ]
  },
  {
   "cell_type": "code",
   "execution_count": 52,
   "id": "9699e8e1-f8b3-4403-9c3c-42247d80610f",
   "metadata": {},
   "outputs": [],
   "source": [
    "# test \n",
    "for move in testmoves:\n",
    "    parts = move[5:].split(' ')\n",
    "    amount = int(parts[0])\n",
    "    src = int(parts[2])\n",
    "    dest = int(parts[4])\n",
    "    \n",
    "    for i in range(amount):\n",
    "        pop = teststacks[src].pop()\n",
    "        teststacks[dest].append(pop)"
   ]
  },
  {
   "cell_type": "code",
   "execution_count": 63,
   "id": "52710a33-352b-49b1-84bf-3bf1da4cbb0c",
   "metadata": {},
   "outputs": [],
   "source": [
    "# part 1\n",
    "for move in moves:\n",
    "    parts = move[5:].split(' ')\n",
    "    amount = int(parts[0])\n",
    "    src = int(parts[2])\n",
    "    dest = int(parts[4])\n",
    "    \n",
    "    #print(amount, src, dest)\n",
    "    for i in range(amount):\n",
    "        pop = stacks[src].pop()\n",
    "        stacks[dest].append(pop)"
   ]
  },
  {
   "cell_type": "code",
   "execution_count": 64,
   "id": "ce778c59-bc71-4509-bf21-a4c53740f30b",
   "metadata": {},
   "outputs": [
    {
     "data": {
      "text/plain": [
       "{1: ['B', 'L', 'F', 'S', 'V', 'R', 'S', 'L', 'H', 'V'],\n",
       " 2: ['W', 'J', 'B', 'P', 'J', 'M', 'F', 'P', 'W', 'M', 'R', 'R'],\n",
       " 3: ['F', 'W'],\n",
       " 4: ['V', 'S', 'C', 'B'],\n",
       " 5: ['V', 'J', 'H', 'J', 'M', 'H', 'S'],\n",
       " 6: ['Q', 'R', 'P', 'M', 'G', 'Z', 'Z', 'F'],\n",
       " 7: ['F', 'C', 'Q', 'L', 'P', 'T', 'V', 'W', 'Q', 'Z'],\n",
       " 8: ['N', 'W'],\n",
       " 9: ['M']}"
      ]
     },
     "execution_count": 64,
     "metadata": {},
     "output_type": "execute_result"
    }
   ],
   "source": [
    "stacks"
   ]
  },
  {
   "cell_type": "code",
   "execution_count": null,
   "id": "960d6a6e-59d9-4611-9e06-df34c45d5e99",
   "metadata": {},
   "outputs": [],
   "source": [
    "VRWBSFZWM"
   ]
  },
  {
   "cell_type": "code",
   "execution_count": null,
   "id": "308ee635-36bc-471b-bf4c-d4066d71aa6d",
   "metadata": {},
   "outputs": [],
   "source": []
  },
  {
   "cell_type": "code",
   "execution_count": 76,
   "id": "743cda72-001e-4a8e-ab53-ec42b65fa380",
   "metadata": {},
   "outputs": [],
   "source": [
    "# test part 2\n",
    "for move in testmoves:\n",
    "    parts = move[5:].split(' ')\n",
    "    amount = int(parts[0])\n",
    "    src = int(parts[2])\n",
    "    dest = int(parts[4])\n",
    "    \n",
    "    teststacks[dest] = teststacks[dest] + teststacks[src][len(teststacks[src]) - amount:]\n",
    "    teststacks[src] = teststacks[src][:len(teststacks[src]) - amount]"
   ]
  },
  {
   "cell_type": "code",
   "execution_count": 80,
   "id": "c52dcbbd-6b6c-4223-909d-c889b05fbc26",
   "metadata": {},
   "outputs": [],
   "source": [
    "# test part 2\n",
    "for move in moves:\n",
    "    parts = move[5:].split(' ')\n",
    "    amount = int(parts[0])\n",
    "    src = int(parts[2])\n",
    "    dest = int(parts[4])\n",
    "    \n",
    "    #print(amount, src, dest)\n",
    "    stacks[dest] = stacks[dest] + stacks[src][len(stacks[src]) - amount:]\n",
    "    stacks[src] = stacks[src][:len(stacks[src]) - amount]"
   ]
  },
  {
   "cell_type": "code",
   "execution_count": 81,
   "id": "9e2945fa-a475-436f-83c9-28a0049c4f9e",
   "metadata": {},
   "outputs": [
    {
     "data": {
      "text/plain": [
       "{1: ['W', 'V', 'N', 'Q', 'V', 'Q', 'M', 'S', 'H', 'R'],\n",
       " 2: ['L', 'L', 'F', 'F', 'H', 'J', 'V', 'P', 'B', 'R', 'F', 'B'],\n",
       " 3: ['M', 'T'],\n",
       " 4: ['S', 'C', 'F', 'W'],\n",
       " 5: ['J', 'Q', 'S', 'Z', 'P', 'W', 'J'],\n",
       " 6: ['S', 'B', 'R', 'P', 'G', 'M', 'J', 'W'],\n",
       " 7: ['W', 'V', 'M', 'Z', 'H', 'L', 'Z', 'V', 'R', 'M'],\n",
       " 8: ['P', 'C'],\n",
       " 9: ['F']}"
      ]
     },
     "execution_count": 81,
     "metadata": {},
     "output_type": "execute_result"
    }
   ],
   "source": [
    "stacks"
   ]
  },
  {
   "cell_type": "code",
   "execution_count": null,
   "id": "fcffbda7-ffc1-4108-bd15-803837f4608b",
   "metadata": {},
   "outputs": [],
   "source": [
    "RBTWJWMCF"
   ]
  }
 ],
 "metadata": {
  "kernelspec": {
   "display_name": "Python 3 (ipykernel)",
   "language": "python",
   "name": "python3"
  },
  "language_info": {
   "codemirror_mode": {
    "name": "ipython",
    "version": 3
   },
   "file_extension": ".py",
   "mimetype": "text/x-python",
   "name": "python",
   "nbconvert_exporter": "python",
   "pygments_lexer": "ipython3",
   "version": "3.9.13"
  }
 },
 "nbformat": 4,
 "nbformat_minor": 5
}
