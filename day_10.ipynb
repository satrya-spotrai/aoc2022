{
 "cells": [
  {
   "cell_type": "code",
   "execution_count": 69,
   "id": "81984bec-d39a-46c7-a8d4-3339f0c10a4f",
   "metadata": {},
   "outputs": [],
   "source": [
    "import pickle as pkl"
   ]
  },
  {
   "cell_type": "code",
   "execution_count": 72,
   "id": "4404d657-32e4-4489-abe3-8733bc88d4b5",
   "metadata": {},
   "outputs": [],
   "source": [
    "with open('message.pkl', 'rb') as handle:\n",
    "    message = pkl.load(handle)"
   ]
  },
  {
   "cell_type": "code",
   "execution_count": 79,
   "id": "43563a6b-2087-4c6f-98ce-09c972340fc2",
   "metadata": {},
   "outputs": [],
   "source": [
    "lines = message.reshape((6, 40)).tolist()"
   ]
  },
  {
   "cell_type": "code",
   "execution_count": 82,
   "id": "2bcaac45-20aa-45c6-a259-9edad6964c09",
   "metadata": {},
   "outputs": [
    {
     "name": "stdout",
     "output_type": "stream",
     "text": [
      "# # # . . . . # # . # # # # . # # # . . # # # . . # # # # . # # # # . . # # . . \n",
      "# . . # . . . . # . # . . . . # . . # . # . . # . # . . . . # . . . . # . . # . \n",
      "# . . # . . . . # . # # # . . # . . # . # . . # . # # # . . # # # . . # . . . . \n",
      "# # # . . . . . # . # . . . . # # # . . # # # . . # . . . . # . . . . # . . . . \n",
      "# . # . . # . . # . # . . . . # . # . . # . . . . # . . . . # . . . . # . . # . \n",
      "# . . # . . # # . . # # # # . # . . # . # . . . . # # # # . # . . . . . # # . . \n"
     ]
    }
   ],
   "source": [
    "for line in lines:\n",
    "    l = ''\n",
    "    for i in line:\n",
    "        if i == 1:\n",
    "            l += '# '\n",
    "        else:\n",
    "            l += '. '\n",
    "    print(l)"
   ]
  },
  {
   "cell_type": "code",
   "execution_count": null,
   "id": "19fba44b-6843-471f-b806-b4d8d0aeb92a",
   "metadata": {},
   "outputs": [],
   "source": []
  }
 ],
 "metadata": {
  "kernelspec": {
   "display_name": "Python 3 (ipykernel)",
   "language": "python",
   "name": "python3"
  },
  "language_info": {
   "codemirror_mode": {
    "name": "ipython",
    "version": 3
   },
   "file_extension": ".py",
   "mimetype": "text/x-python",
   "name": "python",
   "nbconvert_exporter": "python",
   "pygments_lexer": "ipython3",
   "version": "3.9.13"
  }
 },
 "nbformat": 4,
 "nbformat_minor": 5
}
